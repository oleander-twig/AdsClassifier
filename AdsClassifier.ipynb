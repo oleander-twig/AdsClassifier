{
  "nbformat": 4,
  "nbformat_minor": 0,
  "metadata": {
    "colab": {
      "provenance": [],
      "gpuType": "T4",
      "toc_visible": true
    },
    "kernelspec": {
      "name": "python3",
      "display_name": "Python 3"
    },
    "language_info": {
      "name": "python"
    },
    "accelerator": "GPU",
    "widgets": {
      "application/vnd.jupyter.widget-state+json": {
        "3b513d11a0a64234857b510a961b558a": {
          "model_module": "@jupyter-widgets/controls",
          "model_name": "HBoxModel",
          "model_module_version": "1.5.0",
          "state": {
            "_dom_classes": [],
            "_model_module": "@jupyter-widgets/controls",
            "_model_module_version": "1.5.0",
            "_model_name": "HBoxModel",
            "_view_count": null,
            "_view_module": "@jupyter-widgets/controls",
            "_view_module_version": "1.5.0",
            "_view_name": "HBoxView",
            "box_style": "",
            "children": [
              "IPY_MODEL_4f237be9ab5f401892e130bc1ceefb30",
              "IPY_MODEL_7342a5d6771b47779db313acaba515ab",
              "IPY_MODEL_c29d6d6dca7d45a0aa9cf9a0aa1dfc4e"
            ],
            "layout": "IPY_MODEL_487d9ce6adf748ceae7c9f280c741206"
          }
        },
        "4f237be9ab5f401892e130bc1ceefb30": {
          "model_module": "@jupyter-widgets/controls",
          "model_name": "HTMLModel",
          "model_module_version": "1.5.0",
          "state": {
            "_dom_classes": [],
            "_model_module": "@jupyter-widgets/controls",
            "_model_module_version": "1.5.0",
            "_model_name": "HTMLModel",
            "_view_count": null,
            "_view_module": "@jupyter-widgets/controls",
            "_view_module_version": "1.5.0",
            "_view_name": "HTMLView",
            "description": "",
            "description_tooltip": null,
            "layout": "IPY_MODEL_99b97e4e0a31442ab24ac9b4c79e31a2",
            "placeholder": "​",
            "style": "IPY_MODEL_ad0002f7a1074041b423e730823a8bd5",
            "value": "Map: 100%"
          }
        },
        "7342a5d6771b47779db313acaba515ab": {
          "model_module": "@jupyter-widgets/controls",
          "model_name": "FloatProgressModel",
          "model_module_version": "1.5.0",
          "state": {
            "_dom_classes": [],
            "_model_module": "@jupyter-widgets/controls",
            "_model_module_version": "1.5.0",
            "_model_name": "FloatProgressModel",
            "_view_count": null,
            "_view_module": "@jupyter-widgets/controls",
            "_view_module_version": "1.5.0",
            "_view_name": "ProgressView",
            "bar_style": "success",
            "description": "",
            "description_tooltip": null,
            "layout": "IPY_MODEL_e56349a2d1d548d5bc247f36823710d3",
            "max": 2376,
            "min": 0,
            "orientation": "horizontal",
            "style": "IPY_MODEL_48577f33722445b2a6f2ae8ef7363394",
            "value": 2376
          }
        },
        "c29d6d6dca7d45a0aa9cf9a0aa1dfc4e": {
          "model_module": "@jupyter-widgets/controls",
          "model_name": "HTMLModel",
          "model_module_version": "1.5.0",
          "state": {
            "_dom_classes": [],
            "_model_module": "@jupyter-widgets/controls",
            "_model_module_version": "1.5.0",
            "_model_name": "HTMLModel",
            "_view_count": null,
            "_view_module": "@jupyter-widgets/controls",
            "_view_module_version": "1.5.0",
            "_view_name": "HTMLView",
            "description": "",
            "description_tooltip": null,
            "layout": "IPY_MODEL_a83280908d634759b4bd3aea21269294",
            "placeholder": "​",
            "style": "IPY_MODEL_1f530323ec074c3385ebde5b35b1d676",
            "value": " 2376/2376 [00:05&lt;00:00, 498.30 examples/s]"
          }
        },
        "487d9ce6adf748ceae7c9f280c741206": {
          "model_module": "@jupyter-widgets/base",
          "model_name": "LayoutModel",
          "model_module_version": "1.2.0",
          "state": {
            "_model_module": "@jupyter-widgets/base",
            "_model_module_version": "1.2.0",
            "_model_name": "LayoutModel",
            "_view_count": null,
            "_view_module": "@jupyter-widgets/base",
            "_view_module_version": "1.2.0",
            "_view_name": "LayoutView",
            "align_content": null,
            "align_items": null,
            "align_self": null,
            "border": null,
            "bottom": null,
            "display": null,
            "flex": null,
            "flex_flow": null,
            "grid_area": null,
            "grid_auto_columns": null,
            "grid_auto_flow": null,
            "grid_auto_rows": null,
            "grid_column": null,
            "grid_gap": null,
            "grid_row": null,
            "grid_template_areas": null,
            "grid_template_columns": null,
            "grid_template_rows": null,
            "height": null,
            "justify_content": null,
            "justify_items": null,
            "left": null,
            "margin": null,
            "max_height": null,
            "max_width": null,
            "min_height": null,
            "min_width": null,
            "object_fit": null,
            "object_position": null,
            "order": null,
            "overflow": null,
            "overflow_x": null,
            "overflow_y": null,
            "padding": null,
            "right": null,
            "top": null,
            "visibility": null,
            "width": null
          }
        },
        "99b97e4e0a31442ab24ac9b4c79e31a2": {
          "model_module": "@jupyter-widgets/base",
          "model_name": "LayoutModel",
          "model_module_version": "1.2.0",
          "state": {
            "_model_module": "@jupyter-widgets/base",
            "_model_module_version": "1.2.0",
            "_model_name": "LayoutModel",
            "_view_count": null,
            "_view_module": "@jupyter-widgets/base",
            "_view_module_version": "1.2.0",
            "_view_name": "LayoutView",
            "align_content": null,
            "align_items": null,
            "align_self": null,
            "border": null,
            "bottom": null,
            "display": null,
            "flex": null,
            "flex_flow": null,
            "grid_area": null,
            "grid_auto_columns": null,
            "grid_auto_flow": null,
            "grid_auto_rows": null,
            "grid_column": null,
            "grid_gap": null,
            "grid_row": null,
            "grid_template_areas": null,
            "grid_template_columns": null,
            "grid_template_rows": null,
            "height": null,
            "justify_content": null,
            "justify_items": null,
            "left": null,
            "margin": null,
            "max_height": null,
            "max_width": null,
            "min_height": null,
            "min_width": null,
            "object_fit": null,
            "object_position": null,
            "order": null,
            "overflow": null,
            "overflow_x": null,
            "overflow_y": null,
            "padding": null,
            "right": null,
            "top": null,
            "visibility": null,
            "width": null
          }
        },
        "ad0002f7a1074041b423e730823a8bd5": {
          "model_module": "@jupyter-widgets/controls",
          "model_name": "DescriptionStyleModel",
          "model_module_version": "1.5.0",
          "state": {
            "_model_module": "@jupyter-widgets/controls",
            "_model_module_version": "1.5.0",
            "_model_name": "DescriptionStyleModel",
            "_view_count": null,
            "_view_module": "@jupyter-widgets/base",
            "_view_module_version": "1.2.0",
            "_view_name": "StyleView",
            "description_width": ""
          }
        },
        "e56349a2d1d548d5bc247f36823710d3": {
          "model_module": "@jupyter-widgets/base",
          "model_name": "LayoutModel",
          "model_module_version": "1.2.0",
          "state": {
            "_model_module": "@jupyter-widgets/base",
            "_model_module_version": "1.2.0",
            "_model_name": "LayoutModel",
            "_view_count": null,
            "_view_module": "@jupyter-widgets/base",
            "_view_module_version": "1.2.0",
            "_view_name": "LayoutView",
            "align_content": null,
            "align_items": null,
            "align_self": null,
            "border": null,
            "bottom": null,
            "display": null,
            "flex": null,
            "flex_flow": null,
            "grid_area": null,
            "grid_auto_columns": null,
            "grid_auto_flow": null,
            "grid_auto_rows": null,
            "grid_column": null,
            "grid_gap": null,
            "grid_row": null,
            "grid_template_areas": null,
            "grid_template_columns": null,
            "grid_template_rows": null,
            "height": null,
            "justify_content": null,
            "justify_items": null,
            "left": null,
            "margin": null,
            "max_height": null,
            "max_width": null,
            "min_height": null,
            "min_width": null,
            "object_fit": null,
            "object_position": null,
            "order": null,
            "overflow": null,
            "overflow_x": null,
            "overflow_y": null,
            "padding": null,
            "right": null,
            "top": null,
            "visibility": null,
            "width": null
          }
        },
        "48577f33722445b2a6f2ae8ef7363394": {
          "model_module": "@jupyter-widgets/controls",
          "model_name": "ProgressStyleModel",
          "model_module_version": "1.5.0",
          "state": {
            "_model_module": "@jupyter-widgets/controls",
            "_model_module_version": "1.5.0",
            "_model_name": "ProgressStyleModel",
            "_view_count": null,
            "_view_module": "@jupyter-widgets/base",
            "_view_module_version": "1.2.0",
            "_view_name": "StyleView",
            "bar_color": null,
            "description_width": ""
          }
        },
        "a83280908d634759b4bd3aea21269294": {
          "model_module": "@jupyter-widgets/base",
          "model_name": "LayoutModel",
          "model_module_version": "1.2.0",
          "state": {
            "_model_module": "@jupyter-widgets/base",
            "_model_module_version": "1.2.0",
            "_model_name": "LayoutModel",
            "_view_count": null,
            "_view_module": "@jupyter-widgets/base",
            "_view_module_version": "1.2.0",
            "_view_name": "LayoutView",
            "align_content": null,
            "align_items": null,
            "align_self": null,
            "border": null,
            "bottom": null,
            "display": null,
            "flex": null,
            "flex_flow": null,
            "grid_area": null,
            "grid_auto_columns": null,
            "grid_auto_flow": null,
            "grid_auto_rows": null,
            "grid_column": null,
            "grid_gap": null,
            "grid_row": null,
            "grid_template_areas": null,
            "grid_template_columns": null,
            "grid_template_rows": null,
            "height": null,
            "justify_content": null,
            "justify_items": null,
            "left": null,
            "margin": null,
            "max_height": null,
            "max_width": null,
            "min_height": null,
            "min_width": null,
            "object_fit": null,
            "object_position": null,
            "order": null,
            "overflow": null,
            "overflow_x": null,
            "overflow_y": null,
            "padding": null,
            "right": null,
            "top": null,
            "visibility": null,
            "width": null
          }
        },
        "1f530323ec074c3385ebde5b35b1d676": {
          "model_module": "@jupyter-widgets/controls",
          "model_name": "DescriptionStyleModel",
          "model_module_version": "1.5.0",
          "state": {
            "_model_module": "@jupyter-widgets/controls",
            "_model_module_version": "1.5.0",
            "_model_name": "DescriptionStyleModel",
            "_view_count": null,
            "_view_module": "@jupyter-widgets/base",
            "_view_module_version": "1.2.0",
            "_view_name": "StyleView",
            "description_width": ""
          }
        },
        "504df71303c7460b86983fc8ca0f6ece": {
          "model_module": "@jupyter-widgets/controls",
          "model_name": "HBoxModel",
          "model_module_version": "1.5.0",
          "state": {
            "_dom_classes": [],
            "_model_module": "@jupyter-widgets/controls",
            "_model_module_version": "1.5.0",
            "_model_name": "HBoxModel",
            "_view_count": null,
            "_view_module": "@jupyter-widgets/controls",
            "_view_module_version": "1.5.0",
            "_view_name": "HBoxView",
            "box_style": "",
            "children": [
              "IPY_MODEL_4260a5fe1ff948c3a649f07edb2b477b",
              "IPY_MODEL_1e9ba679085c457995db7a8e772f9c75",
              "IPY_MODEL_70cef970ccc74beea589992c27ba4dc7"
            ],
            "layout": "IPY_MODEL_6666a06855684af89257653c6733d48d"
          }
        },
        "4260a5fe1ff948c3a649f07edb2b477b": {
          "model_module": "@jupyter-widgets/controls",
          "model_name": "HTMLModel",
          "model_module_version": "1.5.0",
          "state": {
            "_dom_classes": [],
            "_model_module": "@jupyter-widgets/controls",
            "_model_module_version": "1.5.0",
            "_model_name": "HTMLModel",
            "_view_count": null,
            "_view_module": "@jupyter-widgets/controls",
            "_view_module_version": "1.5.0",
            "_view_name": "HTMLView",
            "description": "",
            "description_tooltip": null,
            "layout": "IPY_MODEL_480f7d5b30a948e8a23caa4bbdf42cef",
            "placeholder": "​",
            "style": "IPY_MODEL_c5e8348d9871404e90d5e9fc8487a3be",
            "value": "Map: 100%"
          }
        },
        "1e9ba679085c457995db7a8e772f9c75": {
          "model_module": "@jupyter-widgets/controls",
          "model_name": "FloatProgressModel",
          "model_module_version": "1.5.0",
          "state": {
            "_dom_classes": [],
            "_model_module": "@jupyter-widgets/controls",
            "_model_module_version": "1.5.0",
            "_model_name": "FloatProgressModel",
            "_view_count": null,
            "_view_module": "@jupyter-widgets/controls",
            "_view_module_version": "1.5.0",
            "_view_name": "ProgressView",
            "bar_style": "success",
            "description": "",
            "description_tooltip": null,
            "layout": "IPY_MODEL_35395295e5da48e194ae5dbfce713ea4",
            "max": 297,
            "min": 0,
            "orientation": "horizontal",
            "style": "IPY_MODEL_9466d3068c1e43a79963cf237a7d7b7c",
            "value": 297
          }
        },
        "70cef970ccc74beea589992c27ba4dc7": {
          "model_module": "@jupyter-widgets/controls",
          "model_name": "HTMLModel",
          "model_module_version": "1.5.0",
          "state": {
            "_dom_classes": [],
            "_model_module": "@jupyter-widgets/controls",
            "_model_module_version": "1.5.0",
            "_model_name": "HTMLModel",
            "_view_count": null,
            "_view_module": "@jupyter-widgets/controls",
            "_view_module_version": "1.5.0",
            "_view_name": "HTMLView",
            "description": "",
            "description_tooltip": null,
            "layout": "IPY_MODEL_df0b0eba1cb54addb6a29a0793fe32e2",
            "placeholder": "​",
            "style": "IPY_MODEL_53e81f7efdc047489c02ed634dd863b6",
            "value": " 297/297 [00:00&lt;00:00, 1018.76 examples/s]"
          }
        },
        "6666a06855684af89257653c6733d48d": {
          "model_module": "@jupyter-widgets/base",
          "model_name": "LayoutModel",
          "model_module_version": "1.2.0",
          "state": {
            "_model_module": "@jupyter-widgets/base",
            "_model_module_version": "1.2.0",
            "_model_name": "LayoutModel",
            "_view_count": null,
            "_view_module": "@jupyter-widgets/base",
            "_view_module_version": "1.2.0",
            "_view_name": "LayoutView",
            "align_content": null,
            "align_items": null,
            "align_self": null,
            "border": null,
            "bottom": null,
            "display": null,
            "flex": null,
            "flex_flow": null,
            "grid_area": null,
            "grid_auto_columns": null,
            "grid_auto_flow": null,
            "grid_auto_rows": null,
            "grid_column": null,
            "grid_gap": null,
            "grid_row": null,
            "grid_template_areas": null,
            "grid_template_columns": null,
            "grid_template_rows": null,
            "height": null,
            "justify_content": null,
            "justify_items": null,
            "left": null,
            "margin": null,
            "max_height": null,
            "max_width": null,
            "min_height": null,
            "min_width": null,
            "object_fit": null,
            "object_position": null,
            "order": null,
            "overflow": null,
            "overflow_x": null,
            "overflow_y": null,
            "padding": null,
            "right": null,
            "top": null,
            "visibility": null,
            "width": null
          }
        },
        "480f7d5b30a948e8a23caa4bbdf42cef": {
          "model_module": "@jupyter-widgets/base",
          "model_name": "LayoutModel",
          "model_module_version": "1.2.0",
          "state": {
            "_model_module": "@jupyter-widgets/base",
            "_model_module_version": "1.2.0",
            "_model_name": "LayoutModel",
            "_view_count": null,
            "_view_module": "@jupyter-widgets/base",
            "_view_module_version": "1.2.0",
            "_view_name": "LayoutView",
            "align_content": null,
            "align_items": null,
            "align_self": null,
            "border": null,
            "bottom": null,
            "display": null,
            "flex": null,
            "flex_flow": null,
            "grid_area": null,
            "grid_auto_columns": null,
            "grid_auto_flow": null,
            "grid_auto_rows": null,
            "grid_column": null,
            "grid_gap": null,
            "grid_row": null,
            "grid_template_areas": null,
            "grid_template_columns": null,
            "grid_template_rows": null,
            "height": null,
            "justify_content": null,
            "justify_items": null,
            "left": null,
            "margin": null,
            "max_height": null,
            "max_width": null,
            "min_height": null,
            "min_width": null,
            "object_fit": null,
            "object_position": null,
            "order": null,
            "overflow": null,
            "overflow_x": null,
            "overflow_y": null,
            "padding": null,
            "right": null,
            "top": null,
            "visibility": null,
            "width": null
          }
        },
        "c5e8348d9871404e90d5e9fc8487a3be": {
          "model_module": "@jupyter-widgets/controls",
          "model_name": "DescriptionStyleModel",
          "model_module_version": "1.5.0",
          "state": {
            "_model_module": "@jupyter-widgets/controls",
            "_model_module_version": "1.5.0",
            "_model_name": "DescriptionStyleModel",
            "_view_count": null,
            "_view_module": "@jupyter-widgets/base",
            "_view_module_version": "1.2.0",
            "_view_name": "StyleView",
            "description_width": ""
          }
        },
        "35395295e5da48e194ae5dbfce713ea4": {
          "model_module": "@jupyter-widgets/base",
          "model_name": "LayoutModel",
          "model_module_version": "1.2.0",
          "state": {
            "_model_module": "@jupyter-widgets/base",
            "_model_module_version": "1.2.0",
            "_model_name": "LayoutModel",
            "_view_count": null,
            "_view_module": "@jupyter-widgets/base",
            "_view_module_version": "1.2.0",
            "_view_name": "LayoutView",
            "align_content": null,
            "align_items": null,
            "align_self": null,
            "border": null,
            "bottom": null,
            "display": null,
            "flex": null,
            "flex_flow": null,
            "grid_area": null,
            "grid_auto_columns": null,
            "grid_auto_flow": null,
            "grid_auto_rows": null,
            "grid_column": null,
            "grid_gap": null,
            "grid_row": null,
            "grid_template_areas": null,
            "grid_template_columns": null,
            "grid_template_rows": null,
            "height": null,
            "justify_content": null,
            "justify_items": null,
            "left": null,
            "margin": null,
            "max_height": null,
            "max_width": null,
            "min_height": null,
            "min_width": null,
            "object_fit": null,
            "object_position": null,
            "order": null,
            "overflow": null,
            "overflow_x": null,
            "overflow_y": null,
            "padding": null,
            "right": null,
            "top": null,
            "visibility": null,
            "width": null
          }
        },
        "9466d3068c1e43a79963cf237a7d7b7c": {
          "model_module": "@jupyter-widgets/controls",
          "model_name": "ProgressStyleModel",
          "model_module_version": "1.5.0",
          "state": {
            "_model_module": "@jupyter-widgets/controls",
            "_model_module_version": "1.5.0",
            "_model_name": "ProgressStyleModel",
            "_view_count": null,
            "_view_module": "@jupyter-widgets/base",
            "_view_module_version": "1.2.0",
            "_view_name": "StyleView",
            "bar_color": null,
            "description_width": ""
          }
        },
        "df0b0eba1cb54addb6a29a0793fe32e2": {
          "model_module": "@jupyter-widgets/base",
          "model_name": "LayoutModel",
          "model_module_version": "1.2.0",
          "state": {
            "_model_module": "@jupyter-widgets/base",
            "_model_module_version": "1.2.0",
            "_model_name": "LayoutModel",
            "_view_count": null,
            "_view_module": "@jupyter-widgets/base",
            "_view_module_version": "1.2.0",
            "_view_name": "LayoutView",
            "align_content": null,
            "align_items": null,
            "align_self": null,
            "border": null,
            "bottom": null,
            "display": null,
            "flex": null,
            "flex_flow": null,
            "grid_area": null,
            "grid_auto_columns": null,
            "grid_auto_flow": null,
            "grid_auto_rows": null,
            "grid_column": null,
            "grid_gap": null,
            "grid_row": null,
            "grid_template_areas": null,
            "grid_template_columns": null,
            "grid_template_rows": null,
            "height": null,
            "justify_content": null,
            "justify_items": null,
            "left": null,
            "margin": null,
            "max_height": null,
            "max_width": null,
            "min_height": null,
            "min_width": null,
            "object_fit": null,
            "object_position": null,
            "order": null,
            "overflow": null,
            "overflow_x": null,
            "overflow_y": null,
            "padding": null,
            "right": null,
            "top": null,
            "visibility": null,
            "width": null
          }
        },
        "53e81f7efdc047489c02ed634dd863b6": {
          "model_module": "@jupyter-widgets/controls",
          "model_name": "DescriptionStyleModel",
          "model_module_version": "1.5.0",
          "state": {
            "_model_module": "@jupyter-widgets/controls",
            "_model_module_version": "1.5.0",
            "_model_name": "DescriptionStyleModel",
            "_view_count": null,
            "_view_module": "@jupyter-widgets/base",
            "_view_module_version": "1.2.0",
            "_view_name": "StyleView",
            "description_width": ""
          }
        }
      }
    }
  },
  "cells": [
    {
      "cell_type": "code",
      "source": [
        "!pip cache purge\n",
        "!pip install numpy==1.25.0 pandas gensim==4.3.2 pymorphy2==0.9.1 scipy==1.11.1 fasttext-wheel==0.9.2"
      ],
      "metadata": {
        "colab": {
          "base_uri": "https://localhost:8080/"
        },
        "id": "k3sg_gG95H-Z",
        "outputId": "ec05bc1e-3910-44aa-be87-ca07eb41b563"
      },
      "execution_count": null,
      "outputs": [
        {
          "output_type": "stream",
          "name": "stdout",
          "text": [
            "Files removed: 53\n",
            "Requirement already satisfied: numpy==1.25.0 in /usr/local/lib/python3.11/dist-packages (1.25.0)\n",
            "Requirement already satisfied: pandas in /usr/local/lib/python3.11/dist-packages (2.2.2)\n",
            "Requirement already satisfied: gensim==4.3.2 in /usr/local/lib/python3.11/dist-packages (4.3.2)\n",
            "Requirement already satisfied: pymorphy2==0.9.1 in /usr/local/lib/python3.11/dist-packages (0.9.1)\n",
            "Requirement already satisfied: scipy==1.11.1 in /usr/local/lib/python3.11/dist-packages (1.11.1)\n",
            "Requirement already satisfied: fasttext-wheel==0.9.2 in /usr/local/lib/python3.11/dist-packages (0.9.2)\n",
            "Requirement already satisfied: smart-open>=1.8.1 in /usr/local/lib/python3.11/dist-packages (from gensim==4.3.2) (7.1.0)\n",
            "Requirement already satisfied: dawg-python>=0.7.1 in /usr/local/lib/python3.11/dist-packages (from pymorphy2==0.9.1) (0.7.2)\n",
            "Requirement already satisfied: pymorphy2-dicts-ru<3.0,>=2.4 in /usr/local/lib/python3.11/dist-packages (from pymorphy2==0.9.1) (2.4.417127.4579844)\n",
            "Requirement already satisfied: docopt>=0.6 in /usr/local/lib/python3.11/dist-packages (from pymorphy2==0.9.1) (0.6.2)\n",
            "Requirement already satisfied: pybind11>=2.2 in /usr/local/lib/python3.11/dist-packages (from fasttext-wheel==0.9.2) (2.13.6)\n",
            "Requirement already satisfied: setuptools>=0.7.0 in /usr/local/lib/python3.11/dist-packages (from fasttext-wheel==0.9.2) (75.2.0)\n",
            "Requirement already satisfied: python-dateutil>=2.8.2 in /usr/local/lib/python3.11/dist-packages (from pandas) (2.9.0.post0)\n",
            "Requirement already satisfied: pytz>=2020.1 in /usr/local/lib/python3.11/dist-packages (from pandas) (2025.2)\n",
            "Requirement already satisfied: tzdata>=2022.7 in /usr/local/lib/python3.11/dist-packages (from pandas) (2025.2)\n",
            "Requirement already satisfied: six>=1.5 in /usr/local/lib/python3.11/dist-packages (from python-dateutil>=2.8.2->pandas) (1.17.0)\n",
            "Requirement already satisfied: wrapt in /usr/local/lib/python3.11/dist-packages (from smart-open>=1.8.1->gensim==4.3.2) (1.17.2)\n"
          ]
        }
      ]
    },
    {
      "cell_type": "code",
      "execution_count": null,
      "metadata": {
        "id": "hfYYGrHZuvJa"
      },
      "outputs": [],
      "source": [
        "import pandas as pd\n",
        "from tokenizers import Tokenizer, models, trainers, pre_tokenizers\n",
        "import matplotlib.pyplot as plt\n",
        "import numpy as np\n",
        "import string\n",
        "import pymorphy2\n",
        "from sklearn.model_selection import train_test_split\n",
        "from sklearn.feature_extraction.text import CountVectorizer\n",
        "from gensim.models import Word2Vec\n",
        "import fasttext\n",
        "import torch\n",
        "import torch.nn as nn\n",
        "from torch.utils.data import Dataset, DataLoader\n",
        "import random\n",
        "import os\n",
        "from tqdm import tqdm"
      ]
    },
    {
      "cell_type": "code",
      "source": [
        "from transformers import AutoTokenizer, AutoModelForSequenceClassification, Trainer, TrainingArguments"
      ],
      "metadata": {
        "id": "1W0dkxIC6rmw"
      },
      "execution_count": null,
      "outputs": []
    },
    {
      "cell_type": "markdown",
      "source": [
        "# Чтение данных"
      ],
      "metadata": {
        "id": "IA-JZUH_FFze"
      }
    },
    {
      "cell_type": "code",
      "source": [
        "from google.colab import drive\n",
        "drive.mount('/content/drive/')"
      ],
      "metadata": {
        "colab": {
          "base_uri": "https://localhost:8080/"
        },
        "id": "-r61iU6M7VqI",
        "outputId": "40a83a4d-e066-4c7a-ebbb-49cfbbf680d1"
      },
      "execution_count": null,
      "outputs": [
        {
          "output_type": "stream",
          "name": "stdout",
          "text": [
            "Mounted at /content/drive/\n"
          ]
        }
      ]
    },
    {
      "cell_type": "code",
      "source": [
        "categories = pd.read_csv(\"/content/drive/MyDrive/Диплом/categories.csv\")\n",
        "categories.name.to_list()"
      ],
      "metadata": {
        "id": "HYJsKLYSz48v",
        "colab": {
          "base_uri": "https://localhost:8080/"
        },
        "outputId": "b3d8658f-d8c2-43b0-db81-8f55caae35b1"
      },
      "execution_count": null,
      "outputs": [
        {
          "output_type": "execute_result",
          "data": {
            "text/plain": [
              "['Авиатранспорт',\n",
              " 'Автосервисы',\n",
              " 'Арбитражные слуги, третейские суды',\n",
              " 'Техника: аудио-, видео-, фото-, кино-',\n",
              " 'Аудио, видеопродукция, игры',\n",
              " 'Биологически активные добавки',\n",
              " 'Благотворительная деятельность',\n",
              " 'Бытовая техника',\n",
              " 'Бытовая химия',\n",
              " 'Водный транспорт',\n",
              " 'Грузовые автомобили',\n",
              " 'Досуг и развлечения',\n",
              " 'Компьютерная техника и ПО',\n",
              " 'Косметика, уход, гигиена',\n",
              " 'Легковые автомобили и мототехника',\n",
              " 'Лекарственные препараты',\n",
              " 'Массовые мероприятия',\n",
              " 'Мебель и предметы интерьера',\n",
              " 'Медицинское оборудование и материалы',\n",
              " 'Напитки',\n",
              " 'Общественные организации',\n",
              " 'Одежда и обувь',\n",
              " 'Оргтехника и канцелярские товары',\n",
              " 'Отопительное и водонагревательное оборудование',\n",
              " 'Парфюмерия',\n",
              " 'Политическая реклама',\n",
              " 'Посредничество и франчайзинг',\n",
              " 'Продукты питания',\n",
              " 'Промышленное оборудование',\n",
              " 'Промышленные материалы',\n",
              " 'Реклама социальная',\n",
              " 'Рента',\n",
              " 'Сертификация',\n",
              " 'Изделие, конструктивно схожее с оружием',\n",
              " 'Спортивные изделия',\n",
              " 'Средства массовой информации',\n",
              " 'Средства охраны и личной безопасности',\n",
              " 'Средства связи и оборудование',\n",
              " 'Строительные, отделочные материалы, сантехника',\n",
              " 'Текстиль',\n",
              " 'Товары и техника для сада',\n",
              " 'Товары для детей',\n",
              " 'Товары для животных',\n",
              " 'Транспорт и ГСМ',\n",
              " 'Туризм, спорт и отдых',\n",
              " 'Услуги бытовые и сервис',\n",
              " 'Услуги в области интернета',\n",
              " 'Услуги в области рекламы и маркетинга',\n",
              " 'Услуги в области торговли',\n",
              " 'Услуги в системе образования и трудоустройство',\n",
              " 'Услуги медицинские',\n",
              " 'Услуги общественного питания',\n",
              " 'Услуги по операциям с недвижимостью',\n",
              " 'Услуги по охране и безопасности',\n",
              " 'Услуги производственные',\n",
              " 'Услуги связи',\n",
              " 'Услуги страховые',\n",
              " 'Услуги транспортные',\n",
              " 'Услуги финансовые',\n",
              " 'Услуги юридические, аудиторские и консалтинговые',\n",
              " 'Хозяйственные принадлежности (механические)',\n",
              " 'Часы, ювелирные изделия',\n",
              " 'Музыкальные инструменты',\n",
              " 'Азартные игры',\n",
              " 'Наркотические и психотропные вещества',\n",
              " 'Оружие',\n",
              " 'Сырье для предпр. легкой промышленности',\n",
              " 'Табак и курительные принадлежности',\n",
              " 'Нецензурные выражения, оскорбления, негатив',\n",
              " 'Порнография и эротика',\n",
              " 'Шпионаж',\n",
              " 'Логотипы и бренды']"
            ]
          },
          "metadata": {},
          "execution_count": 6
        }
      ]
    },
    {
      "cell_type": "code",
      "source": [
        "data = pd.read_csv(\"/content/drive/MyDrive/Диплом/anotates_string.csv\")\n",
        "data.head(10)"
      ],
      "metadata": {
        "id": "KeWGWAWj0JTH",
        "colab": {
          "base_uri": "https://localhost:8080/",
          "height": 363
        },
        "outputId": "03fa9361-755a-4422-db70-2dfe23abc275"
      },
      "execution_count": null,
      "outputs": [
        {
          "output_type": "execute_result",
          "data": {
            "text/plain": [
              "   Unnamed: 0                                              input  \\\n",
              "0           0  Каталог автозапчастей для интернет-магазинов....   \n",
              "1           1  Оборудование для ресторанов - профессиональное...   \n",
              "2           2  Легковые автомобили, запчасти на автомобили, ш...   \n",
              "3           3  Сьогодні Рош створює інноваційні ліки та діаг...   \n",
              "4           4  Белгидрохимресурс Компания ЗАО «Белгидрохимрес...   \n",
              "5           5  Делаем ремонт | Портал для тех, кто делает рем...   \n",
              "6           6  ФГБУ «Институт стандартизации» ФГБУ «Институт ...   \n",
              "7           7                       Туристическая деревня НАГЕУС   \n",
              "8           8  Магазин развивающих игр и литературы «Маленьки...   \n",
              "9           9  Агентство деловых поездок Оптима Турс: гостини...   \n",
              "\n",
              "                                         category  \n",
              "0                                     Автосервисы  \n",
              "1                    Услуги общественного питания  \n",
              "2               Легковые автомобили и мототехника  \n",
              "3                         Лекарственные препараты  \n",
              "4                          Промышленные материалы  \n",
              "5  Строительные, отделочные материалы, сантехника  \n",
              "6                                    Сертификация  \n",
              "7                           Туризм, спорт и отдых  \n",
              "8                                Товары для детей  \n",
              "9                           Туризм, спорт и отдых  "
            ],
            "text/html": [
              "\n",
              "  <div id=\"df-b28d6082-cd43-4fc6-89f7-2dd3f6da3a2d\" class=\"colab-df-container\">\n",
              "    <div>\n",
              "<style scoped>\n",
              "    .dataframe tbody tr th:only-of-type {\n",
              "        vertical-align: middle;\n",
              "    }\n",
              "\n",
              "    .dataframe tbody tr th {\n",
              "        vertical-align: top;\n",
              "    }\n",
              "\n",
              "    .dataframe thead th {\n",
              "        text-align: right;\n",
              "    }\n",
              "</style>\n",
              "<table border=\"1\" class=\"dataframe\">\n",
              "  <thead>\n",
              "    <tr style=\"text-align: right;\">\n",
              "      <th></th>\n",
              "      <th>Unnamed: 0</th>\n",
              "      <th>input</th>\n",
              "      <th>category</th>\n",
              "    </tr>\n",
              "  </thead>\n",
              "  <tbody>\n",
              "    <tr>\n",
              "      <th>0</th>\n",
              "      <td>0</td>\n",
              "      <td>Каталог автозапчастей для интернет-магазинов....</td>\n",
              "      <td>Автосервисы</td>\n",
              "    </tr>\n",
              "    <tr>\n",
              "      <th>1</th>\n",
              "      <td>1</td>\n",
              "      <td>Оборудование для ресторанов - профессиональное...</td>\n",
              "      <td>Услуги общественного питания</td>\n",
              "    </tr>\n",
              "    <tr>\n",
              "      <th>2</th>\n",
              "      <td>2</td>\n",
              "      <td>Легковые автомобили, запчасти на автомобили, ш...</td>\n",
              "      <td>Легковые автомобили и мототехника</td>\n",
              "    </tr>\n",
              "    <tr>\n",
              "      <th>3</th>\n",
              "      <td>3</td>\n",
              "      <td>Сьогодні Рош створює інноваційні ліки та діаг...</td>\n",
              "      <td>Лекарственные препараты</td>\n",
              "    </tr>\n",
              "    <tr>\n",
              "      <th>4</th>\n",
              "      <td>4</td>\n",
              "      <td>Белгидрохимресурс Компания ЗАО «Белгидрохимрес...</td>\n",
              "      <td>Промышленные материалы</td>\n",
              "    </tr>\n",
              "    <tr>\n",
              "      <th>5</th>\n",
              "      <td>5</td>\n",
              "      <td>Делаем ремонт | Портал для тех, кто делает рем...</td>\n",
              "      <td>Строительные, отделочные материалы, сантехника</td>\n",
              "    </tr>\n",
              "    <tr>\n",
              "      <th>6</th>\n",
              "      <td>6</td>\n",
              "      <td>ФГБУ «Институт стандартизации» ФГБУ «Институт ...</td>\n",
              "      <td>Сертификация</td>\n",
              "    </tr>\n",
              "    <tr>\n",
              "      <th>7</th>\n",
              "      <td>7</td>\n",
              "      <td>Туристическая деревня НАГЕУС</td>\n",
              "      <td>Туризм, спорт и отдых</td>\n",
              "    </tr>\n",
              "    <tr>\n",
              "      <th>8</th>\n",
              "      <td>8</td>\n",
              "      <td>Магазин развивающих игр и литературы «Маленьки...</td>\n",
              "      <td>Товары для детей</td>\n",
              "    </tr>\n",
              "    <tr>\n",
              "      <th>9</th>\n",
              "      <td>9</td>\n",
              "      <td>Агентство деловых поездок Оптима Турс: гостини...</td>\n",
              "      <td>Туризм, спорт и отдых</td>\n",
              "    </tr>\n",
              "  </tbody>\n",
              "</table>\n",
              "</div>\n",
              "    <div class=\"colab-df-buttons\">\n",
              "\n",
              "  <div class=\"colab-df-container\">\n",
              "    <button class=\"colab-df-convert\" onclick=\"convertToInteractive('df-b28d6082-cd43-4fc6-89f7-2dd3f6da3a2d')\"\n",
              "            title=\"Convert this dataframe to an interactive table.\"\n",
              "            style=\"display:none;\">\n",
              "\n",
              "  <svg xmlns=\"http://www.w3.org/2000/svg\" height=\"24px\" viewBox=\"0 -960 960 960\">\n",
              "    <path d=\"M120-120v-720h720v720H120Zm60-500h600v-160H180v160Zm220 220h160v-160H400v160Zm0 220h160v-160H400v160ZM180-400h160v-160H180v160Zm440 0h160v-160H620v160ZM180-180h160v-160H180v160Zm440 0h160v-160H620v160Z\"/>\n",
              "  </svg>\n",
              "    </button>\n",
              "\n",
              "  <style>\n",
              "    .colab-df-container {\n",
              "      display:flex;\n",
              "      gap: 12px;\n",
              "    }\n",
              "\n",
              "    .colab-df-convert {\n",
              "      background-color: #E8F0FE;\n",
              "      border: none;\n",
              "      border-radius: 50%;\n",
              "      cursor: pointer;\n",
              "      display: none;\n",
              "      fill: #1967D2;\n",
              "      height: 32px;\n",
              "      padding: 0 0 0 0;\n",
              "      width: 32px;\n",
              "    }\n",
              "\n",
              "    .colab-df-convert:hover {\n",
              "      background-color: #E2EBFA;\n",
              "      box-shadow: 0px 1px 2px rgba(60, 64, 67, 0.3), 0px 1px 3px 1px rgba(60, 64, 67, 0.15);\n",
              "      fill: #174EA6;\n",
              "    }\n",
              "\n",
              "    .colab-df-buttons div {\n",
              "      margin-bottom: 4px;\n",
              "    }\n",
              "\n",
              "    [theme=dark] .colab-df-convert {\n",
              "      background-color: #3B4455;\n",
              "      fill: #D2E3FC;\n",
              "    }\n",
              "\n",
              "    [theme=dark] .colab-df-convert:hover {\n",
              "      background-color: #434B5C;\n",
              "      box-shadow: 0px 1px 3px 1px rgba(0, 0, 0, 0.15);\n",
              "      filter: drop-shadow(0px 1px 2px rgba(0, 0, 0, 0.3));\n",
              "      fill: #FFFFFF;\n",
              "    }\n",
              "  </style>\n",
              "\n",
              "    <script>\n",
              "      const buttonEl =\n",
              "        document.querySelector('#df-b28d6082-cd43-4fc6-89f7-2dd3f6da3a2d button.colab-df-convert');\n",
              "      buttonEl.style.display =\n",
              "        google.colab.kernel.accessAllowed ? 'block' : 'none';\n",
              "\n",
              "      async function convertToInteractive(key) {\n",
              "        const element = document.querySelector('#df-b28d6082-cd43-4fc6-89f7-2dd3f6da3a2d');\n",
              "        const dataTable =\n",
              "          await google.colab.kernel.invokeFunction('convertToInteractive',\n",
              "                                                    [key], {});\n",
              "        if (!dataTable) return;\n",
              "\n",
              "        const docLinkHtml = 'Like what you see? Visit the ' +\n",
              "          '<a target=\"_blank\" href=https://colab.research.google.com/notebooks/data_table.ipynb>data table notebook</a>'\n",
              "          + ' to learn more about interactive tables.';\n",
              "        element.innerHTML = '';\n",
              "        dataTable['output_type'] = 'display_data';\n",
              "        await google.colab.output.renderOutput(dataTable, element);\n",
              "        const docLink = document.createElement('div');\n",
              "        docLink.innerHTML = docLinkHtml;\n",
              "        element.appendChild(docLink);\n",
              "      }\n",
              "    </script>\n",
              "  </div>\n",
              "\n",
              "\n",
              "    <div id=\"df-c539d146-bae2-44b3-813a-939efe843b22\">\n",
              "      <button class=\"colab-df-quickchart\" onclick=\"quickchart('df-c539d146-bae2-44b3-813a-939efe843b22')\"\n",
              "                title=\"Suggest charts\"\n",
              "                style=\"display:none;\">\n",
              "\n",
              "<svg xmlns=\"http://www.w3.org/2000/svg\" height=\"24px\"viewBox=\"0 0 24 24\"\n",
              "     width=\"24px\">\n",
              "    <g>\n",
              "        <path d=\"M19 3H5c-1.1 0-2 .9-2 2v14c0 1.1.9 2 2 2h14c1.1 0 2-.9 2-2V5c0-1.1-.9-2-2-2zM9 17H7v-7h2v7zm4 0h-2V7h2v10zm4 0h-2v-4h2v4z\"/>\n",
              "    </g>\n",
              "</svg>\n",
              "      </button>\n",
              "\n",
              "<style>\n",
              "  .colab-df-quickchart {\n",
              "      --bg-color: #E8F0FE;\n",
              "      --fill-color: #1967D2;\n",
              "      --hover-bg-color: #E2EBFA;\n",
              "      --hover-fill-color: #174EA6;\n",
              "      --disabled-fill-color: #AAA;\n",
              "      --disabled-bg-color: #DDD;\n",
              "  }\n",
              "\n",
              "  [theme=dark] .colab-df-quickchart {\n",
              "      --bg-color: #3B4455;\n",
              "      --fill-color: #D2E3FC;\n",
              "      --hover-bg-color: #434B5C;\n",
              "      --hover-fill-color: #FFFFFF;\n",
              "      --disabled-bg-color: #3B4455;\n",
              "      --disabled-fill-color: #666;\n",
              "  }\n",
              "\n",
              "  .colab-df-quickchart {\n",
              "    background-color: var(--bg-color);\n",
              "    border: none;\n",
              "    border-radius: 50%;\n",
              "    cursor: pointer;\n",
              "    display: none;\n",
              "    fill: var(--fill-color);\n",
              "    height: 32px;\n",
              "    padding: 0;\n",
              "    width: 32px;\n",
              "  }\n",
              "\n",
              "  .colab-df-quickchart:hover {\n",
              "    background-color: var(--hover-bg-color);\n",
              "    box-shadow: 0 1px 2px rgba(60, 64, 67, 0.3), 0 1px 3px 1px rgba(60, 64, 67, 0.15);\n",
              "    fill: var(--button-hover-fill-color);\n",
              "  }\n",
              "\n",
              "  .colab-df-quickchart-complete:disabled,\n",
              "  .colab-df-quickchart-complete:disabled:hover {\n",
              "    background-color: var(--disabled-bg-color);\n",
              "    fill: var(--disabled-fill-color);\n",
              "    box-shadow: none;\n",
              "  }\n",
              "\n",
              "  .colab-df-spinner {\n",
              "    border: 2px solid var(--fill-color);\n",
              "    border-color: transparent;\n",
              "    border-bottom-color: var(--fill-color);\n",
              "    animation:\n",
              "      spin 1s steps(1) infinite;\n",
              "  }\n",
              "\n",
              "  @keyframes spin {\n",
              "    0% {\n",
              "      border-color: transparent;\n",
              "      border-bottom-color: var(--fill-color);\n",
              "      border-left-color: var(--fill-color);\n",
              "    }\n",
              "    20% {\n",
              "      border-color: transparent;\n",
              "      border-left-color: var(--fill-color);\n",
              "      border-top-color: var(--fill-color);\n",
              "    }\n",
              "    30% {\n",
              "      border-color: transparent;\n",
              "      border-left-color: var(--fill-color);\n",
              "      border-top-color: var(--fill-color);\n",
              "      border-right-color: var(--fill-color);\n",
              "    }\n",
              "    40% {\n",
              "      border-color: transparent;\n",
              "      border-right-color: var(--fill-color);\n",
              "      border-top-color: var(--fill-color);\n",
              "    }\n",
              "    60% {\n",
              "      border-color: transparent;\n",
              "      border-right-color: var(--fill-color);\n",
              "    }\n",
              "    80% {\n",
              "      border-color: transparent;\n",
              "      border-right-color: var(--fill-color);\n",
              "      border-bottom-color: var(--fill-color);\n",
              "    }\n",
              "    90% {\n",
              "      border-color: transparent;\n",
              "      border-bottom-color: var(--fill-color);\n",
              "    }\n",
              "  }\n",
              "</style>\n",
              "\n",
              "      <script>\n",
              "        async function quickchart(key) {\n",
              "          const quickchartButtonEl =\n",
              "            document.querySelector('#' + key + ' button');\n",
              "          quickchartButtonEl.disabled = true;  // To prevent multiple clicks.\n",
              "          quickchartButtonEl.classList.add('colab-df-spinner');\n",
              "          try {\n",
              "            const charts = await google.colab.kernel.invokeFunction(\n",
              "                'suggestCharts', [key], {});\n",
              "          } catch (error) {\n",
              "            console.error('Error during call to suggestCharts:', error);\n",
              "          }\n",
              "          quickchartButtonEl.classList.remove('colab-df-spinner');\n",
              "          quickchartButtonEl.classList.add('colab-df-quickchart-complete');\n",
              "        }\n",
              "        (() => {\n",
              "          let quickchartButtonEl =\n",
              "            document.querySelector('#df-c539d146-bae2-44b3-813a-939efe843b22 button');\n",
              "          quickchartButtonEl.style.display =\n",
              "            google.colab.kernel.accessAllowed ? 'block' : 'none';\n",
              "        })();\n",
              "      </script>\n",
              "    </div>\n",
              "    </div>\n",
              "  </div>\n"
            ],
            "application/vnd.google.colaboratory.intrinsic+json": {
              "type": "dataframe",
              "variable_name": "data",
              "summary": "{\n  \"name\": \"data\",\n  \"rows\": 2971,\n  \"fields\": [\n    {\n      \"column\": \"Unnamed: 0\",\n      \"properties\": {\n        \"dtype\": \"number\",\n        \"std\": 857,\n        \"min\": 0,\n        \"max\": 2970,\n        \"num_unique_values\": 2971,\n        \"samples\": [\n          2399,\n          1222,\n          2404\n        ],\n        \"semantic_type\": \"\",\n        \"description\": \"\"\n      }\n    },\n    {\n      \"column\": \"input\",\n      \"properties\": {\n        \"dtype\": \"string\",\n        \"num_unique_values\": 2864,\n        \"samples\": [\n          \"\\u041a\\u043b\\u0443\\u0431\\u041e\\u041a \\u2014 \\u0433\\u0430\\u0434\\u0436\\u0435\\u0442\\u044b \\u0438 \\u0442\\u0435\\u0445\\u043d\\u043e\\u043b\\u043e\\u0433\\u0438\\u0438\",\n          \"\\u0414\\u043e\\u0441\\u043a\\u0430 \\u043e\\u0431\\u044a\\u044f\\u0432\\u043b\\u0435\\u043d\\u0438\\u0438\\u0306 \\u0410\\u043a\\u0443\\u043b\\u0430, \\u0431\\u0435\\u0441\\u043f\\u043b\\u0430\\u0442\\u043d\\u044b\\u0435 \\u043e\\u0431\\u044a\\u044f\\u0432\\u043b\\u0435\\u043d\\u0438\\u044f, \\u0434\\u0435\\u043b\\u043e\\u0432\\u044b\\u0435 \\u043e\\u0431\\u044a\\u044f\\u0432\\u043b\\u0435\\u043d\\u0438\\u044f, \\u0447\\u0430\\u0441\\u0442\\u043d\\u044b\\u0435 \\u043e\\u0431\\u044a\\u044f\\u0432\\u043b\\u0435\\u043d\\u0438\\u044f. \\u0421\\u0430\\u0438\\u0306\\u0442 \\u0431\\u0435\\u0441\\u043f\\u043b\\u0430\\u0442\\u043d\\u044b\\u0445 \\u043e\\u0431\\u044a\\u044f\\u0432\\u043b\\u0435\\u043d\\u0438\\u0438\\u0306 AcoolA.ru - \\u0414\\u043e\\u0441\\u043a\\u0438 \\u043e\\u0431\\u044a\\u044f\\u0432\\u043b\\u0435\\u043d\\u0438\\u0438\\u0306 - \\u0414\\u043e\\u0441\\u043a\\u0438 \\u043e\\u0431\\u044a\\u044f\\u0432\\u043b\\u0435\\u043d\\u0438\\u0438\\u0306 \\u0432 \\u0420\\u043e\\u0441\\u0441\\u0438\\u0438\",\n          \"\\u0410\\u0432\\u0442\\u043e\\u043c\\u0430\\u0442\\u0438\\u0437\\u0438\\u0440\\u043e\\u0432\\u0430\\u043d\\u043d\\u043e\\u0435 \\u043e\\u0431\\u043e\\u0440\\u0443\\u0434\\u043e\\u0432\\u0430\\u043d\\u0438\\u0435 \\u0434\\u043b\\u044f \\u0431\\u0438\\u0437\\u043d\\u0435\\u0441\\u0430 \\u0410\\u0432\\u0442\\u043e\\u043c\\u0430\\u0442\\u0438\\u0437\\u0438\\u0440\\u043e\\u0432\\u0430\\u043d\\u043d\\u043e\\u0435 \\u043e\\u0431\\u043e\\u0440\\u0443\\u0434\\u043e\\u0432\\u0430\\u043d\\u0438\\u0435 \\u0434\\u043b\\u044f \\u0431\\u0438\\u0437\\u043d\\u0435\\u0441\\u0430 \\u0410\\u0432\\u0442\\u043e\\u043c\\u0430\\u0442\\u0438\\u0437\\u0438\\u0440\\u043e\\u0432\\u0430\\u043d\\u043d\\u043e\\u0435 \\u043e\\u0431\\u043e\\u0440\\u0443\\u0434\\u043e\\u0432\\u0430\\u043d\\u0438\\u0435 \\u0434\\u043b\\u044f \\u0431\\u0438\\u0437\\u043d\\u0435\\u0441\\u0430 -\"\n        ],\n        \"semantic_type\": \"\",\n        \"description\": \"\"\n      }\n    },\n    {\n      \"column\": \"category\",\n      \"properties\": {\n        \"dtype\": \"category\",\n        \"num_unique_values\": 70,\n        \"samples\": [\n          \"\\u0414\\u043e\\u0441\\u0443\\u0433 \\u0438 \\u0440\\u0430\\u0437\\u0432\\u043b\\u0435\\u0447\\u0435\\u043d\\u0438\\u044f\",\n          \"\\u0410\\u0432\\u0442\\u043e\\u0441\\u0435\\u0440\\u0432\\u0438\\u0441\\u044b\",\n          \"\\u041f\\u043e\\u0441\\u0440\\u0435\\u0434\\u043d\\u0438\\u0447\\u0435\\u0441\\u0442\\u0432\\u043e \\u0438 \\u0444\\u0440\\u0430\\u043d\\u0447\\u0430\\u0439\\u0437\\u0438\\u043d\\u0433\"\n        ],\n        \"semantic_type\": \"\",\n        \"description\": \"\"\n      }\n    }\n  ]\n}"
            }
          },
          "metadata": {},
          "execution_count": 7
        }
      ]
    },
    {
      "cell_type": "markdown",
      "source": [
        "# Изучение данных"
      ],
      "metadata": {
        "id": "7IaI9axFFLH1"
      }
    },
    {
      "cell_type": "code",
      "source": [
        "# всего уникальных категорий\n",
        "len(categories)"
      ],
      "metadata": {
        "id": "P6olCbp_tKfw",
        "colab": {
          "base_uri": "https://localhost:8080/"
        },
        "outputId": "9fa27059-73fb-46e0-cbde-20b4bc9aaf69"
      },
      "execution_count": null,
      "outputs": [
        {
          "output_type": "execute_result",
          "data": {
            "text/plain": [
              "72"
            ]
          },
          "metadata": {},
          "execution_count": 9
        }
      ]
    },
    {
      "cell_type": "code",
      "source": [
        "# всего текстов\n",
        "len(data)"
      ],
      "metadata": {
        "id": "QBZGwH63tbrI",
        "colab": {
          "base_uri": "https://localhost:8080/"
        },
        "outputId": "5906a95a-9987-4b27-8179-1fbfa6b7bbc7"
      },
      "execution_count": null,
      "outputs": [
        {
          "output_type": "execute_result",
          "data": {
            "text/plain": [
              "2971"
            ]
          },
          "metadata": {},
          "execution_count": 10
        }
      ]
    },
    {
      "cell_type": "code",
      "source": [
        "# Количество текстов на каждую категорию\n",
        "data['category'].hist(xlabelsize=15, xrot=90, bins=10, figsize=(30, 10))\n",
        "plt.title('Количество текстов на каждую категорию')\n",
        "plt.ylabel('Количество текстов')\n",
        "\n",
        "plt.savefig(\"categories_rate.png\")\n",
        "plt.show()"
      ],
      "metadata": {
        "id": "5elGWqzb99JY",
        "colab": {
          "base_uri": "https://localhost:8080/",
          "height": 615
        },
        "outputId": "168f0f04-f3f5-45f2-ccf2-cb2fb64cd57b"
      },
      "execution_count": null,
      "outputs": [
        {
          "output_type": "display_data",
          "data": {
            "text/plain": [
              "<Figure size 3000x1000 with 1 Axes>"
            ],
            "image/png": "[encoded data removed]"
          },
          "metadata": {}
        }
      ]
    },
    {
      "cell_type": "markdown",
      "source": [
        "Заметим, что для двух категорий текстов нет совсем. Не будем обучать модель предсказывать категории для данных направлений.  "
      ],
      "metadata": {
        "id": "TYSrMSKeCY9c"
      }
    },
    {
      "cell_type": "code",
      "source": [
        "len(data['category'].value_counts()) == len(categories['name'])"
      ],
      "metadata": {
        "id": "_s0qhY7jCEpa",
        "colab": {
          "base_uri": "https://localhost:8080/"
        },
        "outputId": "1e9ca513-551b-42d2-ad00-5552b776ba33"
      },
      "execution_count": null,
      "outputs": [
        {
          "output_type": "execute_result",
          "data": {
            "text/plain": [
              "False"
            ]
          },
          "metadata": {},
          "execution_count": 12
        }
      ]
    },
    {
      "cell_type": "code",
      "source": [
        "set(categories['name']) - set(data['category'])"
      ],
      "metadata": {
        "id": "49Ag2RCkCby-",
        "colab": {
          "base_uri": "https://localhost:8080/"
        },
        "outputId": "67cef066-a1fa-45a9-94dc-8df84c5d84e1"
      },
      "execution_count": null,
      "outputs": [
        {
          "output_type": "execute_result",
          "data": {
            "text/plain": [
              "{'Рента', 'Табак и курительные принадлежности'}"
            ]
          },
          "metadata": {},
          "execution_count": 13
        }
      ]
    },
    {
      "cell_type": "code",
      "source": [
        "categories[categories['name'] == 'Рента'].index"
      ],
      "metadata": {
        "id": "SCM2BgCrDg20",
        "colab": {
          "base_uri": "https://localhost:8080/"
        },
        "outputId": "0eaf9185-ddbf-4794-90ae-f18b32474bd7"
      },
      "execution_count": null,
      "outputs": [
        {
          "output_type": "execute_result",
          "data": {
            "text/plain": [
              "Index([31], dtype='int64')"
            ]
          },
          "metadata": {},
          "execution_count": 14
        }
      ]
    },
    {
      "cell_type": "code",
      "source": [
        "categories[categories['name'] == 'Табак и курительные принадлежности'].index"
      ],
      "metadata": {
        "id": "CswD4AJHDquZ",
        "colab": {
          "base_uri": "https://localhost:8080/"
        },
        "outputId": "94ef748a-ddb4-4e59-e455-f5c4ef70314b"
      },
      "execution_count": null,
      "outputs": [
        {
          "output_type": "execute_result",
          "data": {
            "text/plain": [
              "Index([67], dtype='int64')"
            ]
          },
          "metadata": {},
          "execution_count": 15
        }
      ]
    },
    {
      "cell_type": "code",
      "source": [
        "categories.drop([31, 67], axis=0, inplace=True)\n",
        "CATEGORIES_NUM = len(categories)\n",
        "CATEGORIES_NUM"
      ],
      "metadata": {
        "id": "xLfnbiopDDI3",
        "colab": {
          "base_uri": "https://localhost:8080/"
        },
        "outputId": "30c44d32-f97d-4644-c528-9f0fc064275a"
      },
      "execution_count": null,
      "outputs": [
        {
          "output_type": "execute_result",
          "data": {
            "text/plain": [
              "70"
            ]
          },
          "metadata": {},
          "execution_count": 8
        }
      ]
    },
    {
      "cell_type": "code",
      "source": [
        "def drop_punctuation(line, sym):\n",
        "  for p in sym:\n",
        "    if p in line:\n",
        "        line = line.replace(p, '')\n",
        "  return line"
      ],
      "metadata": {
        "id": "BPzUMPSxIVPo"
      },
      "execution_count": null,
      "outputs": []
    },
    {
      "cell_type": "code",
      "source": [
        "# Средний объем текста по которому предстоит предсказывать категорию\n",
        "\n",
        "# убрали знаки препинания\n",
        "data['input_non_punct'] = data['input'].apply(lambda x: drop_punctuation(x, string.punctuation))\n",
        "\n",
        "data['length'] = data['input_non_punct'].apply(lambda x: len(x.split()))\n",
        "print(\"Среднее количество слов в описании объявления:\", np.mean(data['length']))\n",
        "print(\"Медиана в количестве слов в описании объявления:\", np.median(data['length']))\n",
        "print(\"Минимальное количество слов в описании объявления:\", np.min(data['length']))\n",
        "print(\"Максимальное количество слов в описании объявления:\", np.max(data['length']))"
      ],
      "metadata": {
        "id": "j4f3djyDF5Zw",
        "colab": {
          "base_uri": "https://localhost:8080/"
        },
        "outputId": "01536da3-35f4-43fe-ab99-ab9e6f857140"
      },
      "execution_count": null,
      "outputs": [
        {
          "output_type": "stream",
          "name": "stdout",
          "text": [
            "Среднее количество слов в описании объявления: 15.422080107707842\n",
            "Медиана в количестве слов в описании объявления: 11.0\n",
            "Минимальное количество слов в описании объявления: 2\n",
            "Максимальное количество слов в описании объявления: 49\n"
          ]
        }
      ]
    },
    {
      "cell_type": "code",
      "source": [
        "# в текстах содержатся два вида описания объявлений: заголовок и само описание\n",
        "# длина почти всех заголовков равна 2\n",
        "data[data['length'] == 2]['input']"
      ],
      "metadata": {
        "id": "sJ1F14AkNCUD",
        "colab": {
          "base_uri": "https://localhost:8080/",
          "height": 1000
        },
        "outputId": "076026f0-1878-4656-8cee-0c9222b03b34"
      },
      "execution_count": null,
      "outputs": [
        {
          "output_type": "execute_result",
          "data": {
            "text/plain": [
              "11                                 Телевизиони Тоҷикистон\n",
              "27                                 НЕЙРОСЕССИИ ИНТЕРАУРА\n",
              "35                           Интернет-магазин Строй-Март\n",
              "127                               Производство листогибов\n",
              "174                                  Декоративный камень\n",
              "216                                 Типография Типография\n",
              "222                                 Главная - Столетие.RU\n",
              "576                                  Павловская Жемчужина\n",
              "593                                  ГИПРОСВЯЗЬ || Москва\n",
              "601                                  Молодежный Смоленск\n",
              "633                              Холодильное оборудование\n",
              "641                                Информационный ресурс\n",
              "649                           Южно-Африканская Республика\n",
              "704                                 Автомобильный портал\n",
              "716                               Компания Комус-упаковка\n",
              "717                                  Строительный портал\n",
              "771                         С-Агросервис (СОЮЗАГРОСЕРВИС)\n",
              "1105                             Интернет-магазин МегаФон\n",
              "1106                                Букмекерская компания\n",
              "1112                                КАМАЗ-мастер: Новости\n",
              "1217                             Интернет-магазин МегаФон\n",
              "1235                             Интернет-магазин МегаФон\n",
              "1522                             Медицинское оборудование\n",
              "1644                               Ремонт: онлайн-журнал\n",
              "1850                               Семинар-инфо - Главная\n",
              "1937                        Строительный интернет-ресурс\n",
              "2028                        Геомембрана | Геомембрана.рус\n",
              "2037                  Информационно-методический портал.\n",
              "2078    Палеоконтакт|Происхождение человека|Цивилизаци...\n",
              "2205                                 Спортивные тренажеры\n",
              "2316                 Инструментально-подшипниковый центр\n",
              "2388                                 ГК ОРЕЛКОМПРЕССОРМАШ\n",
              "2427                          Cадово-парковые светильники\n",
              "2482                                 Стоматология онлайн\n",
              "2627                                Автомобильный портал\n",
              "2673                           Российская промышленность\n",
              "2812                           Стратегическое управление.\n",
              "2904                          \"Интегрированные Программы\"\n",
              "Name: input, dtype: object"
            ],
            "text/html": [
              "<div>\n",
              "<style scoped>\n",
              "    .dataframe tbody tr th:only-of-type {\n",
              "        vertical-align: middle;\n",
              "    }\n",
              "\n",
              "    .dataframe tbody tr th {\n",
              "        vertical-align: top;\n",
              "    }\n",
              "\n",
              "    .dataframe thead th {\n",
              "        text-align: right;\n",
              "    }\n",
              "</style>\n",
              "<table border=\"1\" class=\"dataframe\">\n",
              "  <thead>\n",
              "    <tr style=\"text-align: right;\">\n",
              "      <th></th>\n",
              "      <th>input</th>\n",
              "    </tr>\n",
              "  </thead>\n",
              "  <tbody>\n",
              "    <tr>\n",
              "      <th>11</th>\n",
              "      <td>Телевизиони Тоҷикистон</td>\n",
              "    </tr>\n",
              "    <tr>\n",
              "      <th>27</th>\n",
              "      <td>НЕЙРОСЕССИИ ИНТЕРАУРА</td>\n",
              "    </tr>\n",
              "    <tr>\n",
              "      <th>35</th>\n",
              "      <td>Интернет-магазин Строй-Март</td>\n",
              "    </tr>\n",
              "    <tr>\n",
              "      <th>127</th>\n",
              "      <td>Производство листогибов</td>\n",
              "    </tr>\n",
              "    <tr>\n",
              "      <th>174</th>\n",
              "      <td>Декоративный камень</td>\n",
              "    </tr>\n",
              "    <tr>\n",
              "      <th>216</th>\n",
              "      <td>Типография Типография</td>\n",
              "    </tr>\n",
              "    <tr>\n",
              "      <th>222</th>\n",
              "      <td>Главная - Столетие.RU</td>\n",
              "    </tr>\n",
              "    <tr>\n",
              "      <th>576</th>\n",
              "      <td>Павловская Жемчужина</td>\n",
              "    </tr>\n",
              "    <tr>\n",
              "      <th>593</th>\n",
              "      <td>ГИПРОСВЯЗЬ || Москва</td>\n",
              "    </tr>\n",
              "    <tr>\n",
              "      <th>601</th>\n",
              "      <td>Молодежный Смоленск</td>\n",
              "    </tr>\n",
              "    <tr>\n",
              "      <th>633</th>\n",
              "      <td>Холодильное оборудование</td>\n",
              "    </tr>\n",
              "    <tr>\n",
              "      <th>641</th>\n",
              "      <td>Информационный ресурс</td>\n",
              "    </tr>\n",
              "    <tr>\n",
              "      <th>649</th>\n",
              "      <td>Южно-Африканская Республика</td>\n",
              "    </tr>\n",
              "    <tr>\n",
              "      <th>704</th>\n",
              "      <td>Автомобильный портал</td>\n",
              "    </tr>\n",
              "    <tr>\n",
              "      <th>716</th>\n",
              "      <td>Компания Комус-упаковка</td>\n",
              "    </tr>\n",
              "    <tr>\n",
              "      <th>717</th>\n",
              "      <td>Строительный портал</td>\n",
              "    </tr>\n",
              "    <tr>\n",
              "      <th>771</th>\n",
              "      <td>С-Агросервис (СОЮЗАГРОСЕРВИС)</td>\n",
              "    </tr>\n",
              "    <tr>\n",
              "      <th>1105</th>\n",
              "      <td>Интернет-магазин МегаФон</td>\n",
              "    </tr>\n",
              "    <tr>\n",
              "      <th>1106</th>\n",
              "      <td>Букмекерская компания</td>\n",
              "    </tr>\n",
              "    <tr>\n",
              "      <th>1112</th>\n",
              "      <td>КАМАЗ-мастер: Новости</td>\n",
              "    </tr>\n",
              "    <tr>\n",
              "      <th>1217</th>\n",
              "      <td>Интернет-магазин МегаФон</td>\n",
              "    </tr>\n",
              "    <tr>\n",
              "      <th>1235</th>\n",
              "      <td>Интернет-магазин МегаФон</td>\n",
              "    </tr>\n",
              "    <tr>\n",
              "      <th>1522</th>\n",
              "      <td>Медицинское оборудование</td>\n",
              "    </tr>\n",
              "    <tr>\n",
              "      <th>1644</th>\n",
              "      <td>Ремонт: онлайн-журнал</td>\n",
              "    </tr>\n",
              "    <tr>\n",
              "      <th>1850</th>\n",
              "      <td>Семинар-инфо - Главная</td>\n",
              "    </tr>\n",
              "    <tr>\n",
              "      <th>1937</th>\n",
              "      <td>Строительный интернет-ресурс</td>\n",
              "    </tr>\n",
              "    <tr>\n",
              "      <th>2028</th>\n",
              "      <td>Геомембрана | Геомембрана.рус</td>\n",
              "    </tr>\n",
              "    <tr>\n",
              "      <th>2037</th>\n",
              "      <td>Информационно-методический портал.</td>\n",
              "    </tr>\n",
              "    <tr>\n",
              "      <th>2078</th>\n",
              "      <td>Палеоконтакт|Происхождение человека|Цивилизаци...</td>\n",
              "    </tr>\n",
              "    <tr>\n",
              "      <th>2205</th>\n",
              "      <td>Спортивные тренажеры</td>\n",
              "    </tr>\n",
              "    <tr>\n",
              "      <th>2316</th>\n",
              "      <td>Инструментально-подшипниковый центр</td>\n",
              "    </tr>\n",
              "    <tr>\n",
              "      <th>2388</th>\n",
              "      <td>ГК ОРЕЛКОМПРЕССОРМАШ</td>\n",
              "    </tr>\n",
              "    <tr>\n",
              "      <th>2427</th>\n",
              "      <td>Cадово-парковые светильники</td>\n",
              "    </tr>\n",
              "    <tr>\n",
              "      <th>2482</th>\n",
              "      <td>Стоматология онлайн</td>\n",
              "    </tr>\n",
              "    <tr>\n",
              "      <th>2627</th>\n",
              "      <td>Автомобильный портал</td>\n",
              "    </tr>\n",
              "    <tr>\n",
              "      <th>2673</th>\n",
              "      <td>Российская промышленность</td>\n",
              "    </tr>\n",
              "    <tr>\n",
              "      <th>2812</th>\n",
              "      <td>Стратегическое управление.</td>\n",
              "    </tr>\n",
              "    <tr>\n",
              "      <th>2904</th>\n",
              "      <td>\"Интегрированные Программы\"</td>\n",
              "    </tr>\n",
              "  </tbody>\n",
              "</table>\n",
              "</div><br><label><b>dtype:</b> object</label>"
            ]
          },
          "metadata": {},
          "execution_count": 19
        }
      ]
    },
    {
      "cell_type": "markdown",
      "source": [
        "## Выводы\n",
        "\n",
        "1. В тексте присутствует пунктуация, необходимо очистить текст от знаков препинания перед обучением модели.\n",
        "\n",
        "2. Предназначенный для обучения модели текст может быть коротким - 2 слова. Как правило, первое слово, это прилагательное. В зависимости от рода и числа, прилагательные изменяют свои окончания, но корень слова остается неизменным, так же как и смысл. Необходимо токенизировать слова так, чтобы \"эффект морфологии\" русского языка сохранился."
      ],
      "metadata": {
        "id": "M2uHlHRmKWEk"
      }
    },
    {
      "cell_type": "markdown",
      "source": [
        "# Препроцессинг текста"
      ],
      "metadata": {
        "id": "ZPEaOakCJxmE"
      }
    },
    {
      "cell_type": "markdown",
      "source": [
        "## Удаление знаков препринания, спецсимволов"
      ],
      "metadata": {
        "id": "fA1L83fLOxyb"
      }
    },
    {
      "cell_type": "code",
      "source": [
        "symbols_to_avoid = string.punctuation\n",
        "symbols_to_avoid"
      ],
      "metadata": {
        "id": "ct1uEH_TOgp8",
        "colab": {
          "base_uri": "https://localhost:8080/",
          "height": 35
        },
        "outputId": "4f21df01-c962-48fc-b197-b0deb2ed1b6e"
      },
      "execution_count": null,
      "outputs": [
        {
          "output_type": "execute_result",
          "data": {
            "text/plain": [
              "'!\"#$%&\\'()*+,-./:;<=>?@[\\\\]^_`{|}~'"
            ],
            "application/vnd.google.colaboratory.intrinsic+json": {
              "type": "string"
            }
          },
          "metadata": {},
          "execution_count": 11
        }
      ]
    },
    {
      "cell_type": "code",
      "source": [
        "# расширим список символов\n",
        "# добавим тире, кавычки, знаки валют\n",
        "symbols_to_avoid += '—«»“”‘’$€£¥₽'\n",
        "symbols_to_avoid"
      ],
      "metadata": {
        "id": "-Btj929mO4A2",
        "colab": {
          "base_uri": "https://localhost:8080/",
          "height": 35
        },
        "outputId": "1d7a62e5-7b5b-4235-d600-dd0cca3e7539"
      },
      "execution_count": null,
      "outputs": [
        {
          "output_type": "execute_result",
          "data": {
            "text/plain": [
              "'!\"#$%&\\'()*+,-./:;<=>?@[\\\\]^_`{|}~—«»“”‘’$€£¥₽'"
            ],
            "application/vnd.google.colaboratory.intrinsic+json": {
              "type": "string"
            }
          },
          "metadata": {},
          "execution_count": 12
        }
      ]
    },
    {
      "cell_type": "code",
      "source": [
        "data.drop(\"input_non_punct\", axis=1, inplace=True)\n",
        "data['input_non_punct'] = data[\"input\"].apply(lambda x: drop_punctuation(x, symbols_to_avoid))"
      ],
      "metadata": {
        "id": "zuCEhB-tPLOc"
      },
      "execution_count": null,
      "outputs": []
    },
    {
      "cell_type": "markdown",
      "source": [
        "## Нормализация текста"
      ],
      "metadata": {
        "id": "FhVTcHtER4ZE"
      }
    },
    {
      "cell_type": "code",
      "source": [
        "def pymorphy2_311_hotfix():\n",
        "    from inspect import getfullargspec\n",
        "    from pymorphy2.units.base import BaseAnalyzerUnit\n",
        "\n",
        "    def _get_param_names_311(klass):\n",
        "        if klass.__init__ is object.__init__:\n",
        "            return []\n",
        "        args = getfullargspec(klass.__init__).args\n",
        "        return sorted(args[1:])\n",
        "\n",
        "    setattr(BaseAnalyzerUnit, '_get_param_names', _get_param_names_311)"
      ],
      "metadata": {
        "id": "qe05pnQDsGkR"
      },
      "execution_count": null,
      "outputs": []
    },
    {
      "cell_type": "code",
      "source": [
        "pymorphy2_311_hotfix()\n",
        "morph = pymorphy2.MorphAnalyzer()"
      ],
      "metadata": {
        "id": "AUxl_Y3fR6Pc"
      },
      "execution_count": null,
      "outputs": []
    },
    {
      "cell_type": "code",
      "source": [
        "# parse(word) возвращает список вариантов разбора слова, возьмем первый как наиболее вероятный\n",
        "def normilise_text(text, morph):\n",
        "  return ' '.join([morph.parse(word)[0].normal_form for word in text.split() if word != ''])"
      ],
      "metadata": {
        "id": "FKVB0HnUTEsX"
      },
      "execution_count": null,
      "outputs": []
    },
    {
      "cell_type": "code",
      "source": [
        "data['tokens'] = data['input_non_punct'].apply(lambda x: normilise_text(x, morph))\n",
        "data['tokens'].head(10)"
      ],
      "metadata": {
        "id": "zO1mE65bKk8F",
        "colab": {
          "base_uri": "https://localhost:8080/",
          "height": 398
        },
        "outputId": "1d7fda2a-46eb-4708-8162-fbac85f86130"
      },
      "execution_count": null,
      "outputs": [
        {
          "output_type": "execute_result",
          "data": {
            "text/plain": [
              "0    каталог автозапчастей для интернетмагазин раб...\n",
              "1    оборудование для ресторан профессиональный кух...\n",
              "2    легковой автомобиль запчасть на автомобиль шин...\n",
              "3    сьогодні рош створює інноваційні ліка тот діа...\n",
              "4    белгидрохимресурс компания зао белгидрохимресу...\n",
              "5    делать ремонт портал для тот кто делать ремонт...\n",
              "6    фгб институт стандартизация фгб институт станд...\n",
              "7                         туристический деревня нагеус\n",
              "8    магазин развивать игра и литература маленький...\n",
              "9    агентство деловой поездка оптим турс гостиница...\n",
              "Name: tokens, dtype: object"
            ],
            "text/html": [
              "<div>\n",
              "<style scoped>\n",
              "    .dataframe tbody tr th:only-of-type {\n",
              "        vertical-align: middle;\n",
              "    }\n",
              "\n",
              "    .dataframe tbody tr th {\n",
              "        vertical-align: top;\n",
              "    }\n",
              "\n",
              "    .dataframe thead th {\n",
              "        text-align: right;\n",
              "    }\n",
              "</style>\n",
              "<table border=\"1\" class=\"dataframe\">\n",
              "  <thead>\n",
              "    <tr style=\"text-align: right;\">\n",
              "      <th></th>\n",
              "      <th>tokens</th>\n",
              "    </tr>\n",
              "  </thead>\n",
              "  <tbody>\n",
              "    <tr>\n",
              "      <th>0</th>\n",
              "      <td>каталог автозапчастей для интернетмагазин раб...</td>\n",
              "    </tr>\n",
              "    <tr>\n",
              "      <th>1</th>\n",
              "      <td>оборудование для ресторан профессиональный кух...</td>\n",
              "    </tr>\n",
              "    <tr>\n",
              "      <th>2</th>\n",
              "      <td>легковой автомобиль запчасть на автомобиль шин...</td>\n",
              "    </tr>\n",
              "    <tr>\n",
              "      <th>3</th>\n",
              "      <td>сьогодні рош створює інноваційні ліка тот діа...</td>\n",
              "    </tr>\n",
              "    <tr>\n",
              "      <th>4</th>\n",
              "      <td>белгидрохимресурс компания зао белгидрохимресу...</td>\n",
              "    </tr>\n",
              "    <tr>\n",
              "      <th>5</th>\n",
              "      <td>делать ремонт портал для тот кто делать ремонт...</td>\n",
              "    </tr>\n",
              "    <tr>\n",
              "      <th>6</th>\n",
              "      <td>фгб институт стандартизация фгб институт станд...</td>\n",
              "    </tr>\n",
              "    <tr>\n",
              "      <th>7</th>\n",
              "      <td>туристический деревня нагеус</td>\n",
              "    </tr>\n",
              "    <tr>\n",
              "      <th>8</th>\n",
              "      <td>магазин развивать игра и литература маленький...</td>\n",
              "    </tr>\n",
              "    <tr>\n",
              "      <th>9</th>\n",
              "      <td>агентство деловой поездка оптим турс гостиница...</td>\n",
              "    </tr>\n",
              "  </tbody>\n",
              "</table>\n",
              "</div><br><label><b>dtype:</b> object</label>"
            ]
          },
          "metadata": {},
          "execution_count": 17
        }
      ]
    },
    {
      "cell_type": "markdown",
      "source": [
        "# Train-test split"
      ],
      "metadata": {
        "id": "QHTzqh_yLD9T"
      }
    },
    {
      "cell_type": "code",
      "source": [
        "df_train, df_tmp = train_test_split(data,\n",
        "                                  test_size=0.2,\n",
        "                                  random_state=42)\n",
        "df_val, df_test = train_test_split(df_tmp,\n",
        "                                   test_size=0.5,\n",
        "                                   random_state=42)"
      ],
      "metadata": {
        "id": "tZgBi-HULE3h"
      },
      "execution_count": null,
      "outputs": []
    },
    {
      "cell_type": "markdown",
      "source": [
        "# Метрики\n",
        "\n"
      ],
      "metadata": {
        "id": "YNYS2pUWMsVf"
      }
    },
    {
      "cell_type": "markdown",
      "source": [
        "## Recall"
      ],
      "metadata": {
        "id": "GL52LuvTrZao"
      }
    },
    {
      "cell_type": "code",
      "source": [
        "def recall_count(predicted_map, target_map):\n",
        "  res = []\n",
        "  for category_id in predicted_map.keys():\n",
        "    res.append(predicted_map[category_id] / target_map[category_id])\n",
        "  return np.mean(res) # макро усреднение"
      ],
      "metadata": {
        "id": "wC-xGwDxrcMM"
      },
      "execution_count": null,
      "outputs": []
    },
    {
      "cell_type": "markdown",
      "source": [
        "## Precision"
      ],
      "metadata": {
        "id": "wx3bh52Gvuzj"
      }
    },
    {
      "cell_type": "code",
      "source": [
        "def precision_count(predicted_correct_map, predicted_all_map):\n",
        "  res = []\n",
        "  for category_id in predicted_correct_map.keys():\n",
        "    res.append(predicted_correct_map[category_id] / predicted_all_map[category_id])\n",
        "  return np.mean(res) # макро усреднение"
      ],
      "metadata": {
        "id": "E7mvuXh1vvDm"
      },
      "execution_count": null,
      "outputs": []
    },
    {
      "cell_type": "markdown",
      "source": [
        "# Векторизация"
      ],
      "metadata": {
        "id": "K2vkORE1aQzz"
      }
    },
    {
      "cell_type": "markdown",
      "source": [
        "Реализуем несколько вариантов, чтобы потом выбрать наиболее подходящий."
      ],
      "metadata": {
        "id": "zIZQJOBvFQLI"
      }
    },
    {
      "cell_type": "markdown",
      "source": [
        "## CountVectorizer"
      ],
      "metadata": {
        "id": "8W02WMYoFND8"
      }
    },
    {
      "cell_type": "code",
      "source": [
        "vectorizer = CountVectorizer(analyzer='word', min_df=10)\n",
        "\n",
        "df_train['count_vectorizer'] = [vec for vec in vectorizer.fit_transform(df_train['tokens']).toarray()]\n",
        "df_val['count_vectorizer'] = [vec for vec in vectorizer.transform(df_val['tokens']).toarray()]"
      ],
      "metadata": {
        "id": "fH-zLU5RbHKn"
      },
      "execution_count": null,
      "outputs": []
    },
    {
      "cell_type": "code",
      "source": [
        "import pickle\n",
        "with open('./vectorizer.bin', 'wb') as f:\n",
        "  pickle.dump(vectorizer, file=f)"
      ],
      "metadata": {
        "id": "O24JAr01tTXh"
      },
      "execution_count": null,
      "outputs": []
    },
    {
      "cell_type": "markdown",
      "source": [
        "## Word2Vec"
      ],
      "metadata": {
        "id": "G0znfMJEqVer"
      }
    },
    {
      "cell_type": "markdown",
      "source": [
        "Модель Word2Vec можно обучить двумя способами: Skip-gram и CBOW. Выбор определяется параметром sg (1 — Skip-gram, 0 — CBOW). CBOW обычно хорошо работает на небольших наборах данных."
      ],
      "metadata": {
        "id": "ZdHJo-jLi7bT"
      }
    },
    {
      "cell_type": "code",
      "source": [
        "# создадим список токенизированных предложений\n",
        "df_train['tokens_list'] = df_train['tokens'].apply(lambda x: x.split()).tolist()\n",
        "df_val['tokens_list'] = df_val['tokens'].apply(lambda x: x.split()).tolist()"
      ],
      "metadata": {
        "id": "VOjKeJ8Hly6Q"
      },
      "execution_count": null,
      "outputs": []
    },
    {
      "cell_type": "code",
      "source": [
        "vectorizer_w2v = Word2Vec(df_train['tokens_list'], vector_size=1040, window=5, min_count=2, sg=0)\n",
        "vectorizer_w2v.train(df_train['tokens_list'], epochs=1, total_examples=vectorizer_w2v.corpus_count)"
      ],
      "metadata": {
        "id": "iNUDMFDTadl8",
        "colab": {
          "base_uri": "https://localhost:8080/"
        },
        "outputId": "a97cb062-9506-484c-9c7e-06fc0d72bb82"
      },
      "execution_count": null,
      "outputs": [
        {
          "output_type": "stream",
          "name": "stderr",
          "text": [
            "WARNING:gensim.models.word2vec:Effective 'alpha' higher than previous training cycles\n"
          ]
        },
        {
          "output_type": "execute_result",
          "data": {
            "text/plain": [
              "(26348, 36426)"
            ]
          },
          "metadata": {},
          "execution_count": 33
        }
      ]
    },
    {
      "cell_type": "code",
      "source": [
        "# длина получившегося словаря\n",
        "vocab = set(vectorizer_w2v.wv.key_to_index.keys())\n",
        "len(vocab)"
      ],
      "metadata": {
        "id": "b04NtZWQiTQz",
        "colab": {
          "base_uri": "https://localhost:8080/"
        },
        "outputId": "a00d289a-4a16-4635-fe68-cba8d50397d3"
      },
      "execution_count": null,
      "outputs": [
        {
          "output_type": "execute_result",
          "data": {
            "text/plain": [
              "3442"
            ]
          },
          "metadata": {},
          "execution_count": 34
        }
      ]
    },
    {
      "cell_type": "code",
      "source": [
        "def get_vector_for_word(sentence, d, model):\n",
        "  vectors = []\n",
        "  for word in sentence:\n",
        "    if word in d:\n",
        "      vectors.append(model.wv.get_vector(word))\n",
        "    else:\n",
        "      vectors.append(np.zeros(1040))\n",
        "    return np.array(vectors).mean(axis=0)"
      ],
      "metadata": {
        "id": "h6icrCF7i04X"
      },
      "execution_count": null,
      "outputs": []
    },
    {
      "cell_type": "code",
      "source": [
        "df_train['word_2_vec'] = df_train['tokens_list'].apply(lambda x: get_vector_for_word(x, vocab, vectorizer_w2v))\n",
        "df_val['word_2_vec'] = df_val['tokens_list'].apply(lambda x: get_vector_for_word(x, vocab, vectorizer_w2v))"
      ],
      "metadata": {
        "id": "m86hsz2_j2nG"
      },
      "execution_count": null,
      "outputs": []
    },
    {
      "cell_type": "markdown",
      "source": [
        "## FastText"
      ],
      "metadata": {
        "id": "xqM0DxKSqZjD"
      }
    },
    {
      "cell_type": "code",
      "source": [
        "with open(\"fasttext_vectorizer_input.txt\", \"w\") as file:\n",
        "    for line in df_train['tokens']:\n",
        "      file.write(line)"
      ],
      "metadata": {
        "id": "2yLnSkOIqpny"
      },
      "execution_count": null,
      "outputs": []
    },
    {
      "cell_type": "code",
      "source": [
        "fasttext_vectorizer = fasttext.train_unsupervised(\n",
        "    \"fasttext_vectorizer_input.txt\",\n",
        "    dim = 1040,\n",
        "    epoch = 1,\n",
        "    lr = 0.1,\n",
        "    minn = 3,\n",
        "    maxn = 6,\n",
        "    wordNgrams = 5,\n",
        "    thread = 6,\n",
        "    lrUpdateRate = 100,\n",
        "    ws = 5)"
      ],
      "metadata": {
        "id": "nF1v3VW-a2BJ"
      },
      "execution_count": null,
      "outputs": []
    },
    {
      "cell_type": "code",
      "source": [
        "df_train['fast_text'] = df_train['tokens'].apply(lambda text: fasttext_vectorizer.get_sentence_vector(text.lower().replace('\\n', ' ')))\n",
        "df_val['fast_text'] = df_val['tokens'].apply(lambda text: fasttext_vectorizer.get_sentence_vector(text.lower().replace('\\n', ' ')))"
      ],
      "metadata": {
        "id": "SM3bbEbhrCLZ"
      },
      "execution_count": null,
      "outputs": []
    },
    {
      "cell_type": "code",
      "source": [
        "categories['name']"
      ],
      "metadata": {
        "id": "mBRvC_GarFiZ",
        "colab": {
          "base_uri": "https://localhost:8080/",
          "height": 453
        },
        "outputId": "ce2f2762-06e4-45d8-c290-f3f687d248a9"
      },
      "execution_count": null,
      "outputs": [
        {
          "output_type": "execute_result",
          "data": {
            "text/plain": [
              "0                                   Авиатранспорт\n",
              "1                                     Автосервисы\n",
              "2              Арбитражные слуги, третейские суды\n",
              "3           Техника: аудио-, видео-, фото-, кино-\n",
              "4                     Аудио, видеопродукция, игры\n",
              "                         ...                     \n",
              "66        Сырье для предпр. легкой промышленности\n",
              "68    Нецензурные выражения, оскорбления, негатив\n",
              "69                          Порнография и эротика\n",
              "70                                        Шпионаж\n",
              "71                              Логотипы и бренды\n",
              "Name: name, Length: 70, dtype: object"
            ],
            "text/html": [
              "<div>\n",
              "<style scoped>\n",
              "    .dataframe tbody tr th:only-of-type {\n",
              "        vertical-align: middle;\n",
              "    }\n",
              "\n",
              "    .dataframe tbody tr th {\n",
              "        vertical-align: top;\n",
              "    }\n",
              "\n",
              "    .dataframe thead th {\n",
              "        text-align: right;\n",
              "    }\n",
              "</style>\n",
              "<table border=\"1\" class=\"dataframe\">\n",
              "  <thead>\n",
              "    <tr style=\"text-align: right;\">\n",
              "      <th></th>\n",
              "      <th>name</th>\n",
              "    </tr>\n",
              "  </thead>\n",
              "  <tbody>\n",
              "    <tr>\n",
              "      <th>0</th>\n",
              "      <td>Авиатранспорт</td>\n",
              "    </tr>\n",
              "    <tr>\n",
              "      <th>1</th>\n",
              "      <td>Автосервисы</td>\n",
              "    </tr>\n",
              "    <tr>\n",
              "      <th>2</th>\n",
              "      <td>Арбитражные слуги, третейские суды</td>\n",
              "    </tr>\n",
              "    <tr>\n",
              "      <th>3</th>\n",
              "      <td>Техника: аудио-, видео-, фото-, кино-</td>\n",
              "    </tr>\n",
              "    <tr>\n",
              "      <th>4</th>\n",
              "      <td>Аудио, видеопродукция, игры</td>\n",
              "    </tr>\n",
              "    <tr>\n",
              "      <th>...</th>\n",
              "      <td>...</td>\n",
              "    </tr>\n",
              "    <tr>\n",
              "      <th>66</th>\n",
              "      <td>Сырье для предпр. легкой промышленности</td>\n",
              "    </tr>\n",
              "    <tr>\n",
              "      <th>68</th>\n",
              "      <td>Нецензурные выражения, оскорбления, негатив</td>\n",
              "    </tr>\n",
              "    <tr>\n",
              "      <th>69</th>\n",
              "      <td>Порнография и эротика</td>\n",
              "    </tr>\n",
              "    <tr>\n",
              "      <th>70</th>\n",
              "      <td>Шпионаж</td>\n",
              "    </tr>\n",
              "    <tr>\n",
              "      <th>71</th>\n",
              "      <td>Логотипы и бренды</td>\n",
              "    </tr>\n",
              "  </tbody>\n",
              "</table>\n",
              "<p>70 rows × 1 columns</p>\n",
              "</div><br><label><b>dtype:</b> object</label>"
            ]
          },
          "metadata": {},
          "execution_count": 40
        }
      ]
    },
    {
      "cell_type": "markdown",
      "source": [
        "# Кодирование категорий"
      ],
      "metadata": {
        "id": "WLX2AgpFPCF5"
      }
    },
    {
      "cell_type": "code",
      "source": [
        "# str:int\n",
        "category_encoded_map = dict()\n",
        "for i, c in enumerate(categories['name']):\n",
        "  category_encoded_map[c] = i"
      ],
      "metadata": {
        "id": "h-MTkTjWPEmm"
      },
      "execution_count": null,
      "outputs": []
    },
    {
      "cell_type": "code",
      "source": [
        "# int:str\n",
        "category_encoded_map_reversed = dict()\n",
        "for category, category_id in category_encoded_map.items():\n",
        "  category_encoded_map_reversed[category_id] = category"
      ],
      "metadata": {
        "id": "X7ZNFUJWJbTs"
      },
      "execution_count": null,
      "outputs": []
    },
    {
      "cell_type": "code",
      "source": [
        "def encode_category(category_id):\n",
        "  vec_encoded = np.zeros(CATEGORIES_NUM)\n",
        "  vec_encoded[category_id] = 1\n",
        "  return vec_encoded"
      ],
      "metadata": {
        "id": "FL_rp0MKVdpn"
      },
      "execution_count": null,
      "outputs": []
    },
    {
      "cell_type": "code",
      "source": [
        "df_train['category_encoded'] = df_train['category'].apply(lambda x: encode_category(category_encoded_map[x]))\n",
        "df_val['category_encoded'] = df_val['category'].apply(lambda x: encode_category(category_encoded_map[x]))\n",
        "df_test['category_encoded'] = df_test['category'].apply(lambda x: encode_category(category_encoded_map[x]))"
      ],
      "metadata": {
        "id": "UktClgDdVYdx"
      },
      "execution_count": null,
      "outputs": []
    },
    {
      "cell_type": "markdown",
      "source": [
        "# Обучение модели"
      ],
      "metadata": {
        "id": "rquOlNfHvYmd"
      }
    },
    {
      "cell_type": "markdown",
      "source": [
        "## Подготовка совместимости с библиотекой pytorch"
      ],
      "metadata": {
        "id": "MooY2FuSxW-I"
      }
    },
    {
      "cell_type": "code",
      "source": [
        "class My_dataset(Dataset):\n",
        "    def __init__(self, df, text_column):\n",
        "        self.vecs = df[text_column].values\n",
        "        self.cat = df['category_encoded'].values\n",
        "\n",
        "    def __getitem__(self, index):\n",
        "        return self.vecs[index], self.cat[index]\n",
        "\n",
        "    def __len__(self):\n",
        "        return len(self.vecs)"
      ],
      "metadata": {
        "id": "sXwg_T1Rar8o"
      },
      "execution_count": null,
      "outputs": []
    },
    {
      "cell_type": "code",
      "source": [
        "class My_model(nn.Module):\n",
        "    def __init__(self, size_in, size_hide, size_out):\n",
        "        super().__init__()\n",
        "        self.linear_1 = nn.Linear(size_in, size_hide)\n",
        "        self.bn = nn.BatchNorm1d(size_hide)\n",
        "        self.tanh = nn.Tanh()\n",
        "        self.relu = nn.ReLU()\n",
        "        self.dp = nn.Dropout(0.8)\n",
        "        self.linear_2 = nn.Linear(size_hide, size_out)\n",
        "\n",
        "    def forward(self, x):\n",
        "        x = x.to(torch.float32)\n",
        "        x = self.linear_1(x)\n",
        "        x = self.bn(x)\n",
        "        x = self.tanh(x)\n",
        "        # x = self.relu(x)\n",
        "        x = self.dp(x)\n",
        "        x = self.linear_2(x)\n",
        "        return x\n",
        "\n",
        "    def predict(self, input, drop_punctuation, normilise_text, vectorizer, device='cpu'):\n",
        "        clear_text = drop_punctuation(input, symbols_to_avoid)\n",
        "        tokens_text = normilise_text(clear_text, morph)\n",
        "        text_vector = vectorizer.transform([tokens_text]).toarray()[0]\n",
        "\n",
        "        output = self.forward(torch.tensor([text_vector])).detach().numpy()\n",
        "\n",
        "        category_id = np.argmax(output)\n",
        "        return category_encoded_map_reversed[category_id]"
      ],
      "metadata": {
        "id": "aZ0OC2qEgKIa"
      },
      "execution_count": null,
      "outputs": []
    },
    {
      "cell_type": "code",
      "source": [
        "def set_seed(seed=42):\n",
        "    np.random.seed(seed)\n",
        "    random.seed(seed)\n",
        "    torch.manual_seed(seed)\n",
        "    torch.cuda.manual_seed(seed)\n",
        "    torch.backends.cudnn.deterministic = True\n",
        "    torch.backends.cudnn.benchmark = False\n",
        "    os.environ[\"PYTHONHASHSEED\"] = str(seed)"
      ],
      "metadata": {
        "id": "dSqrIv9SjEE_"
      },
      "execution_count": null,
      "outputs": []
    },
    {
      "cell_type": "code",
      "source": [
        "# размер вектора\n",
        "len(df_train['fast_text'].values[0])"
      ],
      "metadata": {
        "id": "Lnz0mMgKj9Kh",
        "colab": {
          "base_uri": "https://localhost:8080/"
        },
        "outputId": "faf61286-563c-4de6-ac34-ff181575efcf"
      },
      "execution_count": null,
      "outputs": [
        {
          "output_type": "execute_result",
          "data": {
            "text/plain": [
              "1040"
            ]
          },
          "metadata": {},
          "execution_count": 48
        }
      ]
    },
    {
      "cell_type": "code",
      "source": [
        "def init_my_model(device, size_in):\n",
        "\n",
        "  model = My_model(size_in=size_in,\n",
        "                   size_hide=CATEGORIES_NUM,\n",
        "                   size_out=CATEGORIES_NUM).to(device)\n",
        "\n",
        "  model.train()\n",
        "  return model"
      ],
      "metadata": {
        "id": "m4iL7PFiwZLR"
      },
      "execution_count": null,
      "outputs": []
    },
    {
      "cell_type": "markdown",
      "source": [
        "## Определение функции потерь"
      ],
      "metadata": {
        "id": "sie961tPxp7y"
      }
    },
    {
      "cell_type": "markdown",
      "source": [
        "Посчитаем веса для каждой категории.\n",
        "\n",
        "Вспомним, что тексты неравномерно распределены по категориям. Чтобы примерно сбалансировать данные, выставим веса так, чтобы менее часто встречаемые категории, имели большие веса."
      ],
      "metadata": {
        "id": "kpedva9b0eQu"
      }
    },
    {
      "cell_type": "code",
      "source": [
        "# подсчет весов для каждой категории\n",
        "def init_my_categories_weights_map(df):\n",
        "  count_categories = dict(df['category'].value_counts())\n",
        "  count_categories_max = max(count_categories.values())\n",
        "\n",
        "  categories_weights_map = dict()\n",
        "  for category in count_categories.keys():\n",
        "    categories_weights_map[category] = count_categories_max / count_categories[category]\n",
        "\n",
        "  return categories_weights_map"
      ],
      "metadata": {
        "id": "--pOcg3E1Nds"
      },
      "execution_count": null,
      "outputs": []
    },
    {
      "cell_type": "code",
      "source": [
        "categories_weights_map = init_my_categories_weights_map(df_train)\n",
        "df_train['weights'] = df_train['category'].apply(lambda x: categories_weights_map[x])\n",
        "df_val['weights'] = df_val['category'].apply(lambda x: categories_weights_map[x])"
      ],
      "metadata": {
        "id": "wWPxzwwV86t9"
      },
      "execution_count": null,
      "outputs": []
    },
    {
      "cell_type": "code",
      "source": [
        "def init_my_optimizer(model):\n",
        "  return torch.optim.Adam(model.parameters(), lr=0.01)"
      ],
      "metadata": {
        "id": "eX1cZy4Nx-qb"
      },
      "execution_count": null,
      "outputs": []
    },
    {
      "cell_type": "code",
      "source": [
        "def init_my_criterion(df, device):\n",
        "  categories_weights_map = init_my_categories_weights_map(df)\n",
        "  return torch.nn.CrossEntropyLoss(weight=torch.tensor(list(categories_weights_map.values())).float().to(device))"
      ],
      "metadata": {
        "id": "qA4CyZFktRyw"
      },
      "execution_count": null,
      "outputs": []
    },
    {
      "cell_type": "markdown",
      "source": [
        "## Обучение модели"
      ],
      "metadata": {
        "id": "ZpI4mvnFzDZ9"
      }
    },
    {
      "cell_type": "code",
      "source": [
        "def train_my_model(epochs, model, train_loader, val_loader, device, criterion, optimizer):\n",
        "  for epoch_num in range(epochs):\n",
        "\n",
        "      # for accuracy\n",
        "      train_correct_predicted_count = 0\n",
        "      val_correct_predicted_count = 0\n",
        "\n",
        "      # for recall\n",
        "      train_correct_predicted_map = dict()\n",
        "      train_target_map = dict()\n",
        "      val_correct_predicted_map = dict()\n",
        "      val_target_map = dict()\n",
        "\n",
        "      # for precision\n",
        "      train_all_predicted_map = dict()\n",
        "      val_all_predicted_map = dict()\n",
        "\n",
        "      train_loss = 0\n",
        "      val_loss = 0\n",
        "\n",
        "      model.train()\n",
        "      for data, hubs in tqdm(train_loader):\n",
        "          data = data.to(device)\n",
        "          hubs = hubs.to(device)\n",
        "          output = model(data)\n",
        "          loss = criterion(output, hubs)\n",
        "          train_loss += loss.item()\n",
        "          output = output.detach().cpu().numpy()\n",
        "          hubs = hubs.detach().cpu().numpy()\n",
        "\n",
        "          # итерируемся по текстам из батча\n",
        "          for i in range(len(output)):\n",
        "              output_i = output[i]\n",
        "              category_id_predicted = np.argmax(output_i)\n",
        "              category_id_target = np.argmax(hubs[i])\n",
        "              if category_id_predicted == category_id_target:\n",
        "                train_correct_predicted_count += 1\n",
        "                if category_id_predicted in train_correct_predicted_map.keys():\n",
        "                  train_correct_predicted_map[category_id_predicted] += 1\n",
        "                else:\n",
        "                  train_correct_predicted_map[category_id_predicted] = 1\n",
        "\n",
        "              if category_id_predicted in train_all_predicted_map.keys():\n",
        "                train_all_predicted_map[category_id_predicted] += 1\n",
        "              else:\n",
        "                train_all_predicted_map[category_id_predicted] = 1\n",
        "              if category_id_target in train_target_map.keys():\n",
        "                train_target_map[category_id_target] += 1\n",
        "              else:\n",
        "                train_target_map[category_id_target] = 1\n",
        "\n",
        "          model.zero_grad()\n",
        "          loss.backward()\n",
        "          optimizer.step()\n",
        "\n",
        "      model.eval()\n",
        "      for data, hubs in tqdm(val_loader):\n",
        "          data = data.to(device)\n",
        "          hubs = hubs.to(device)\n",
        "          output = model(data)\n",
        "          loss = criterion(output, hubs)\n",
        "          val_loss += loss.item()\n",
        "          output = output.detach().cpu().numpy()\n",
        "          hubs = hubs.detach().cpu().numpy()\n",
        "          for i in range(len(output)):\n",
        "              output_i = output[i]\n",
        "              category_id_predicted = np.argmax(output_i)\n",
        "              category_id_target = np.argmax(hubs[i])\n",
        "\n",
        "              if category_id_predicted == category_id_target:\n",
        "                val_correct_predicted_count += 1\n",
        "\n",
        "                if category_id_predicted in val_correct_predicted_map.keys():\n",
        "                  val_correct_predicted_map[category_id_predicted] += 1\n",
        "                else:\n",
        "                  val_correct_predicted_map[category_id_predicted] = 1\n",
        "\n",
        "              if category_id_predicted in val_all_predicted_map.keys():\n",
        "                val_all_predicted_map[category_id_predicted] += 1\n",
        "              else:\n",
        "                val_all_predicted_map[category_id_predicted] = 1\n",
        "\n",
        "              if category_id_target in val_target_map.keys():\n",
        "                val_target_map[category_id_target] += 1\n",
        "              else:\n",
        "                val_target_map[category_id_target] = 1\n",
        "\n",
        "      train_recall = recall_count(train_correct_predicted_map, train_target_map)\n",
        "      val_recall = recall_count(val_correct_predicted_map, val_target_map)\n",
        "\n",
        "      train_pr = precision_count(train_correct_predicted_map, train_all_predicted_map)\n",
        "      val_pr = precision_count(val_correct_predicted_map, val_all_predicted_map)\n",
        "\n",
        "\n",
        "      print(\n",
        "          f\"Epochs: {epoch_num + 1} | Train Loss: {train_loss} Train Precision: {train_pr} Train Recall: {train_recall} \\\n",
        "          \" + \"\\n\" + \" \"*len(str(epoch_num + 1)) +\n",
        "  f\"         | Vsl Loss {val_loss} Val Precision: {val_pr} | Val Recall: {val_recall}\")\n"
      ],
      "metadata": {
        "id": "DDCBKdjrrvM-"
      },
      "execution_count": null,
      "outputs": []
    },
    {
      "cell_type": "code",
      "source": [
        "# fast_text vectorizer\n",
        "\n",
        "set_seed(42)\n",
        "\n",
        "device = 'cuda' if torch.cuda.is_available() else 'cpu'\n",
        "print(\"device - \", device)\n",
        "\n",
        "model = init_my_model(device, 1040)\n",
        "\n",
        "train_data = My_dataset(df_train, \"fast_text\")\n",
        "val_data = My_dataset(df_val, \"fast_text\")\n",
        "\n",
        "batch_size = 2048\n",
        "train_loader = DataLoader(train_data, batch_size=batch_size, shuffle=True)\n",
        "val_loader = DataLoader(val_data, batch_size=batch_size)\n",
        "\n",
        "optimizer = init_my_optimizer(model)\n",
        "criterion = init_my_criterion(df_train, device)\n",
        "\n",
        "train_my_model(epochs=20, model=model, train_loader=train_loader, val_loader=val_loader, device=device, criterion=criterion, optimizer=optimizer)"
      ],
      "metadata": {
        "id": "5nK69C9tr14O",
        "colab": {
          "base_uri": "https://localhost:8080/"
        },
        "outputId": "4c0cdf49-81b7-491d-cb46-7ea098526806"
      },
      "execution_count": null,
      "outputs": [
        {
          "output_type": "stream",
          "name": "stdout",
          "text": [
            "device -  cpu\n"
          ]
        },
        {
          "output_type": "stream",
          "name": "stderr",
          "text": [
            "100%|██████████| 2/2 [00:00<00:00, 29.69it/s]\n",
            "100%|██████████| 1/1 [00:00<00:00, 114.33it/s]\n"
          ]
        },
        {
          "output_type": "stream",
          "name": "stdout",
          "text": [
            "Epochs: 1 | Train Loss: 159.30313078095185 Train Precision: 0.04800667291304894 Train Recall: 0.042163667995370656           \n",
            "          | Vsl Loss 68.77884697920511 Val Precision: 0.06397306397306397 | Val Recall: 1.0\n"
          ]
        },
        {
          "output_type": "stream",
          "name": "stderr",
          "text": [
            "100%|██████████| 2/2 [00:00<00:00, 30.88it/s]\n",
            "100%|██████████| 1/1 [00:00<00:00, 124.90it/s]\n"
          ]
        },
        {
          "output_type": "stream",
          "name": "stdout",
          "text": [
            "Epochs: 2 | Train Loss: 156.84380324757765 Train Precision: 0.05087731462752866 Train Recall: 0.05733086158396376           \n",
            "          | Vsl Loss 66.59433214255628 Val Precision: 0.06397306397306397 | Val Recall: 1.0\n"
          ]
        },
        {
          "output_type": "stream",
          "name": "stderr",
          "text": [
            "100%|██████████| 2/2 [00:00<00:00, 27.48it/s]\n",
            "100%|██████████| 1/1 [00:00<00:00, 103.76it/s]\n"
          ]
        },
        {
          "output_type": "stream",
          "name": "stdout",
          "text": [
            "Epochs: 3 | Train Loss: 137.75295578021596 Train Precision: 0.07524965276263362 Train Recall: 0.08347806252443761           \n",
            "          | Vsl Loss 65.01872438208876 Val Precision: 0.06397306397306397 | Val Recall: 1.0\n"
          ]
        },
        {
          "output_type": "stream",
          "name": "stderr",
          "text": [
            "100%|██████████| 2/2 [00:00<00:00, 21.94it/s]\n",
            "100%|██████████| 1/1 [00:00<00:00, 128.78it/s]\n"
          ]
        },
        {
          "output_type": "stream",
          "name": "stdout",
          "text": [
            "Epochs: 4 | Train Loss: 150.3382583127335 Train Precision: 0.07789334909962993 Train Recall: 0.08123925419626671           \n",
            "          | Vsl Loss 63.98881741281132 Val Precision: 0.06397306397306397 | Val Recall: 1.0\n"
          ]
        },
        {
          "output_type": "stream",
          "name": "stderr",
          "text": [
            "100%|██████████| 2/2 [00:00<00:00, 29.33it/s]\n",
            "100%|██████████| 1/1 [00:00<00:00, 103.39it/s]\n"
          ]
        },
        {
          "output_type": "stream",
          "name": "stdout",
          "text": [
            "Epochs: 5 | Train Loss: 147.2755442441793 Train Precision: 0.06771684636324045 Train Recall: 0.16049646089671946           \n",
            "          | Vsl Loss 63.26611343599989 Val Precision: 0.06397306397306397 | Val Recall: 1.0\n"
          ]
        },
        {
          "output_type": "stream",
          "name": "stderr",
          "text": [
            "100%|██████████| 2/2 [00:00<00:00, 28.89it/s]\n",
            "100%|██████████| 1/1 [00:00<00:00, 99.42it/s]\n"
          ]
        },
        {
          "output_type": "stream",
          "name": "stdout",
          "text": [
            "Epochs: 6 | Train Loss: 143.45595625306186 Train Precision: 0.1699490053104254 Train Recall: 0.08859993603694287           \n",
            "          | Vsl Loss 62.949577231465405 Val Precision: 0.06397306397306397 | Val Recall: 1.0\n"
          ]
        },
        {
          "output_type": "stream",
          "name": "stderr",
          "text": [
            "100%|██████████| 2/2 [00:00<00:00, 29.29it/s]\n",
            "100%|██████████| 1/1 [00:00<00:00, 118.66it/s]\n"
          ]
        },
        {
          "output_type": "stream",
          "name": "stdout",
          "text": [
            "Epochs: 7 | Train Loss: 141.85724277097484 Train Precision: 0.09998048819342328 Train Recall: 0.13380085604983794           \n",
            "          | Vsl Loss 62.88652015975588 Val Precision: 0.06418918918918919 | Val Recall: 1.0\n"
          ]
        },
        {
          "output_type": "stream",
          "name": "stderr",
          "text": [
            "100%|██████████| 2/2 [00:00<00:00, 28.31it/s]\n",
            "100%|██████████| 1/1 [00:00<00:00, 72.14it/s]\n"
          ]
        },
        {
          "output_type": "stream",
          "name": "stdout",
          "text": [
            "Epochs: 8 | Train Loss: 152.6911419144063 Train Precision: 0.0678064680245353 Train Recall: 0.1024531780920861           \n",
            "          | Vsl Loss 62.94789633954326 Val Precision: 0.06440677966101695 | Val Recall: 1.0\n"
          ]
        },
        {
          "output_type": "stream",
          "name": "stderr",
          "text": [
            "100%|██████████| 2/2 [00:00<00:00, 28.23it/s]\n",
            "100%|██████████| 1/1 [00:00<00:00, 99.44it/s]\n"
          ]
        },
        {
          "output_type": "stream",
          "name": "stdout",
          "text": [
            "Epochs: 9 | Train Loss: 131.3998570296048 Train Precision: 0.05649796789864901 Train Recall: 0.1671224227447321           \n",
            "          | Vsl Loss 63.007868097976576 Val Precision: 0.06551724137931035 | Val Recall: 1.0\n"
          ]
        },
        {
          "output_type": "stream",
          "name": "stderr",
          "text": [
            "100%|██████████| 2/2 [00:00<00:00, 26.77it/s]\n",
            "100%|██████████| 1/1 [00:00<00:00, 114.63it/s]\n"
          ]
        },
        {
          "output_type": "stream",
          "name": "stdout",
          "text": [
            "Epochs: 10 | Train Loss: 144.41244919117827 Train Precision: 0.08784994916128053 Train Recall: 0.16129720151560273           \n",
            "           | Vsl Loss 63.04285571253007 Val Precision: 0.06620209059233449 | Val Recall: 1.0\n"
          ]
        },
        {
          "output_type": "stream",
          "name": "stderr",
          "text": [
            "100%|██████████| 2/2 [00:00<00:00, 26.73it/s]\n",
            "100%|██████████| 1/1 [00:00<00:00, 113.52it/s]\n"
          ]
        },
        {
          "output_type": "stream",
          "name": "stdout",
          "text": [
            "Epochs: 11 | Train Loss: 141.02135583496408 Train Precision: 0.07486411362828586 Train Recall: 0.12439715967374917           \n",
            "           | Vsl Loss 63.81185941213381 Val Precision: 0.0636042402826855 | Val Recall: 0.9473684210526315\n"
          ]
        },
        {
          "output_type": "stream",
          "name": "stderr",
          "text": [
            "100%|██████████| 2/2 [00:00<00:00, 28.59it/s]\n",
            "100%|██████████| 1/1 [00:00<00:00, 92.23it/s]\n"
          ]
        },
        {
          "output_type": "stream",
          "name": "stdout",
          "text": [
            "Epochs: 12 | Train Loss: 136.5056250267312 Train Precision: 0.07578681548663244 Train Recall: 0.13747683036029343           \n",
            "           | Vsl Loss 64.42802020248018 Val Precision: 0.5317164179104478 | Val Recall: 0.49282296650717705\n"
          ]
        },
        {
          "output_type": "stream",
          "name": "stderr",
          "text": [
            "100%|██████████| 2/2 [00:00<00:00, 28.91it/s]\n",
            "100%|██████████| 1/1 [00:00<00:00, 110.65it/s]\n"
          ]
        },
        {
          "output_type": "stream",
          "name": "stdout",
          "text": [
            "Epochs: 13 | Train Loss: 130.8492444706071 Train Precision: 0.12084157572201963 Train Recall: 0.19256786169132434           \n",
            "           | Vsl Loss 64.10870936491116 Val Precision: 0.3624512566532889 | Val Recall: 0.36511733880154934\n"
          ]
        },
        {
          "output_type": "stream",
          "name": "stderr",
          "text": [
            "100%|██████████| 2/2 [00:00<00:00, 26.61it/s]\n",
            "100%|██████████| 1/1 [00:00<00:00, 106.94it/s]\n"
          ]
        },
        {
          "output_type": "stream",
          "name": "stdout",
          "text": [
            "Epochs: 14 | Train Loss: 127.24976944730503 Train Precision: 0.09446893931299484 Train Recall: 0.20547834885752625           \n",
            "           | Vsl Loss 63.464074394172115 Val Precision: 0.3503326592221343 | Val Recall: 0.31337181337181336\n"
          ]
        },
        {
          "output_type": "stream",
          "name": "stderr",
          "text": [
            "100%|██████████| 2/2 [00:00<00:00, 23.22it/s]\n",
            "100%|██████████| 1/1 [00:00<00:00, 98.80it/s]\n"
          ]
        },
        {
          "output_type": "stream",
          "name": "stdout",
          "text": [
            "Epochs: 15 | Train Loss: 131.54167316434473 Train Precision: 0.06234946014968556 Train Recall: 0.12643910502108244           \n",
            "           | Vsl Loss 63.197559862953376 Val Precision: 0.3675 | Val Recall: 0.1147186147186147\n"
          ]
        },
        {
          "output_type": "stream",
          "name": "stderr",
          "text": [
            "100%|██████████| 2/2 [00:00<00:00, 30.07it/s]\n",
            "100%|██████████| 1/1 [00:00<00:00, 116.12it/s]\n"
          ]
        },
        {
          "output_type": "stream",
          "name": "stdout",
          "text": [
            "Epochs: 16 | Train Loss: 130.14857155316554 Train Precision: 0.07350172301591075 Train Recall: 0.20959389002564205           \n",
            "           | Vsl Loss 62.88170698839907 Val Precision: 0.3945035460992908 | Val Recall: 0.6363636363636364\n"
          ]
        },
        {
          "output_type": "stream",
          "name": "stderr",
          "text": [
            "100%|██████████| 2/2 [00:00<00:00, 29.65it/s]\n",
            "100%|██████████| 1/1 [00:00<00:00, 111.00it/s]\n"
          ]
        },
        {
          "output_type": "stream",
          "name": "stdout",
          "text": [
            "Epochs: 17 | Train Loss: 130.158344821956 Train Precision: 0.08037299503439702 Train Recall: 0.211280696191684           \n",
            "           | Vsl Loss 62.94860333249487 Val Precision: 0.5190311418685121 | Val Recall: 0.6363636363636364\n"
          ]
        },
        {
          "output_type": "stream",
          "name": "stderr",
          "text": [
            "100%|██████████| 2/2 [00:00<00:00, 28.57it/s]\n",
            "100%|██████████| 1/1 [00:00<00:00, 100.48it/s]\n"
          ]
        },
        {
          "output_type": "stream",
          "name": "stdout",
          "text": [
            "Epochs: 18 | Train Loss: 129.30019661964732 Train Precision: 0.09520425498127984 Train Recall: 0.1556735665733648           \n",
            "           | Vsl Loss 63.56945860482315 Val Precision: 0.5187713310580204 | Val Recall: 0.5454545454545454\n"
          ]
        },
        {
          "output_type": "stream",
          "name": "stderr",
          "text": [
            "100%|██████████| 2/2 [00:00<00:00,  6.46it/s]\n",
            "100%|██████████| 1/1 [00:00<00:00, 103.41it/s]\n"
          ]
        },
        {
          "output_type": "stream",
          "name": "stdout",
          "text": [
            "Epochs: 19 | Train Loss: 125.76194895240855 Train Precision: 0.09225455657073335 Train Recall: 0.15398957606851962           \n",
            "           | Vsl Loss 65.41449267409992 Val Precision: 0.5189003436426117 | Val Recall: 0.5454545454545454\n"
          ]
        },
        {
          "output_type": "stream",
          "name": "stderr",
          "text": [
            "100%|██████████| 2/2 [00:00<00:00, 28.74it/s]\n",
            "100%|██████████| 1/1 [00:00<00:00, 124.39it/s]"
          ]
        },
        {
          "output_type": "stream",
          "name": "stdout",
          "text": [
            "Epochs: 20 | Train Loss: 127.42770044616631 Train Precision: 0.08150103190854627 Train Recall: 0.2125748809354582           \n",
            "           | Vsl Loss 66.0742099150237 Val Precision: 0.5189003436426117 | Val Recall: 0.5454545454545454\n"
          ]
        },
        {
          "output_type": "stream",
          "name": "stderr",
          "text": [
            "\n"
          ]
        }
      ]
    },
    {
      "cell_type": "markdown",
      "source": [
        "# Эксперименты"
      ],
      "metadata": {
        "id": "kJk-l0Rr3kMi"
      }
    },
    {
      "cell_type": "markdown",
      "source": [
        "## Выбор метода векторизации"
      ],
      "metadata": {
        "id": "5cbAs7H_3nW-"
      }
    },
    {
      "cell_type": "code",
      "source": [
        "# word_2_vec\n",
        "\n",
        "set_seed(42)\n",
        "\n",
        "device = 'cuda' if torch.cuda.is_available() else 'cpu'\n",
        "print(\"device - \", device)\n",
        "\n",
        "model = init_my_model(device, 1040)\n",
        "\n",
        "train_data = My_dataset(df_train, \"word_2_vec\")\n",
        "val_data = My_dataset(df_val, \"word_2_vec\")\n",
        "\n",
        "batch_size = 2048\n",
        "train_loader = DataLoader(train_data, batch_size=batch_size, shuffle=True)\n",
        "val_loader = DataLoader(val_data, batch_size=batch_size)\n",
        "\n",
        "optimizer = init_my_optimizer(model)\n",
        "criterion = init_my_criterion(df_train, device)\n",
        "\n",
        "train_my_model(epochs=20, model=model, train_loader=train_loader, val_loader=val_loader, device=device, criterion=criterion, optimizer=optimizer)"
      ],
      "metadata": {
        "id": "GCmiVAwb3uv_",
        "colab": {
          "base_uri": "https://localhost:8080/"
        },
        "outputId": "d6d9d4da-fcab-4468-ca16-8ead4be41f88"
      },
      "execution_count": null,
      "outputs": [
        {
          "output_type": "stream",
          "name": "stdout",
          "text": [
            "device -  cpu\n"
          ]
        },
        {
          "output_type": "stream",
          "name": "stderr",
          "text": [
            "100%|██████████| 2/2 [00:00<00:00, 10.93it/s]\n",
            "100%|██████████| 1/1 [00:00<00:00, 35.20it/s]\n"
          ]
        },
        {
          "output_type": "stream",
          "name": "stdout",
          "text": [
            "Epochs: 1 | Train Loss: 166.22295909677723 Train Precision: 0.06432904960525081 Train Recall: 0.04457348588421247           \n",
            "          | Vsl Loss 69.74711776578539 Val Precision: 0.050070740546931024 | Val Recall: 0.30980861244019137\n"
          ]
        },
        {
          "output_type": "stream",
          "name": "stderr",
          "text": [
            "100%|██████████| 2/2 [00:00<00:00, 16.92it/s]\n",
            "100%|██████████| 1/1 [00:00<00:00, 101.79it/s]\n"
          ]
        },
        {
          "output_type": "stream",
          "name": "stdout",
          "text": [
            "Epochs: 2 | Train Loss: 162.67932179757497 Train Precision: 0.04794097360595243 Train Recall: 0.03005223935757395           \n",
            "          | Vsl Loss 70.78969664115561 Val Precision: 0.09159754224270353 | Val Recall: 0.34545454545454546\n"
          ]
        },
        {
          "output_type": "stream",
          "name": "stderr",
          "text": [
            "100%|██████████| 2/2 [00:00<00:00, 24.54it/s]\n",
            "100%|██████████| 1/1 [00:00<00:00, 102.37it/s]\n"
          ]
        },
        {
          "output_type": "stream",
          "name": "stdout",
          "text": [
            "Epochs: 3 | Train Loss: 144.9290395985323 Train Precision: 0.0524926758311881 Train Recall: 0.045668973596312466           \n",
            "          | Vsl Loss 72.03549122440036 Val Precision: 0.06632362346648062 | Val Recall: 0.28131517605201817\n"
          ]
        },
        {
          "output_type": "stream",
          "name": "stderr",
          "text": [
            "100%|██████████| 2/2 [00:00<00:00, 25.00it/s]\n",
            "100%|██████████| 1/1 [00:00<00:00, 89.47it/s]\n"
          ]
        },
        {
          "output_type": "stream",
          "name": "stdout",
          "text": [
            "Epochs: 4 | Train Loss: 157.07919650646517 Train Precision: 0.05977246552965112 Train Recall: 0.05323831764645783           \n",
            "          | Vsl Loss 72.15202376082657 Val Precision: 0.05261288912728212 | Val Recall: 0.28131517605201817\n"
          ]
        },
        {
          "output_type": "stream",
          "name": "stderr",
          "text": [
            "100%|██████████| 2/2 [00:00<00:00, 23.45it/s]\n",
            "100%|██████████| 1/1 [00:00<00:00, 96.02it/s]\n"
          ]
        },
        {
          "output_type": "stream",
          "name": "stdout",
          "text": [
            "Epochs: 5 | Train Loss: 155.43754785799507 Train Precision: 0.057000751335390405 Train Recall: 0.04871712961499643           \n",
            "          | Vsl Loss 71.39423199972997 Val Precision: 0.04666666666666667 | Val Recall: 0.3684210526315789\n"
          ]
        },
        {
          "output_type": "stream",
          "name": "stderr",
          "text": [
            "100%|██████████| 2/2 [00:00<00:00,  8.07it/s]\n",
            "100%|██████████| 1/1 [00:00<00:00, 16.82it/s]\n"
          ]
        },
        {
          "output_type": "stream",
          "name": "stdout",
          "text": [
            "Epochs: 6 | Train Loss: 148.5798440333698 Train Precision: 0.05554319957535961 Train Recall: 0.060731031729180575           \n",
            "          | Vsl Loss 70.42386772692115 Val Precision: 0.22302631578947368 | Val Recall: 0.2296650717703349\n"
          ]
        },
        {
          "output_type": "stream",
          "name": "stderr",
          "text": [
            "100%|██████████| 2/2 [00:00<00:00,  6.13it/s]\n",
            "100%|██████████| 1/1 [00:00<00:00, 46.45it/s]\n"
          ]
        },
        {
          "output_type": "stream",
          "name": "stdout",
          "text": [
            "Epochs: 7 | Train Loss: 150.12600264152383 Train Precision: 0.06521675501266141 Train Recall: 0.0716290971800699           \n",
            "          | Vsl Loss 69.79649885028442 Val Precision: 0.0933641975308642 | Val Recall: 0.30861244019138756\n"
          ]
        },
        {
          "output_type": "stream",
          "name": "stderr",
          "text": [
            "100%|██████████| 2/2 [00:00<00:00, 24.05it/s]\n",
            "100%|██████████| 1/1 [00:00<00:00, 100.47it/s]\n"
          ]
        },
        {
          "output_type": "stream",
          "name": "stdout",
          "text": [
            "Epochs: 8 | Train Loss: 162.73665078414868 Train Precision: 0.0537050608743796 Train Recall: 0.06569615927246801           \n",
            "          | Vsl Loss 69.04561554983091 Val Precision: 0.0869047619047619 | Val Recall: 0.12440191387559808\n"
          ]
        },
        {
          "output_type": "stream",
          "name": "stderr",
          "text": [
            "100%|██████████| 2/2 [00:00<00:00, 24.70it/s]\n",
            "100%|██████████| 1/1 [00:00<00:00, 81.00it/s]\n"
          ]
        },
        {
          "output_type": "stream",
          "name": "stdout",
          "text": [
            "Epochs: 9 | Train Loss: 136.79854506703668 Train Precision: 0.04403778902350417 Train Recall: 0.08873096019125759           \n",
            "          | Vsl Loss 68.39115129477361 Val Precision: 0.13636363636363635 | Val Recall: 0.15789473684210525\n"
          ]
        },
        {
          "output_type": "stream",
          "name": "stderr",
          "text": [
            "100%|██████████| 2/2 [00:00<00:00, 21.72it/s]\n",
            "100%|██████████| 1/1 [00:00<00:00, 96.06it/s]\n"
          ]
        },
        {
          "output_type": "stream",
          "name": "stdout",
          "text": [
            "Epochs: 10 | Train Loss: 151.76493740586682 Train Precision: 0.05587323836182638 Train Recall: 0.07966447251920798           \n",
            "           | Vsl Loss 67.42339600013958 Val Precision: 0.14285714285714285 | Val Recall: 0.15789473684210525\n"
          ]
        },
        {
          "output_type": "stream",
          "name": "stderr",
          "text": [
            "100%|██████████| 2/2 [00:00<00:00, 24.85it/s]\n",
            "100%|██████████| 1/1 [00:00<00:00, 91.05it/s]\n",
            "/usr/local/lib/python3.11/dist-packages/numpy/core/fromnumeric.py:3504: RuntimeWarning: Mean of empty slice.\n",
            "  return _methods._mean(a, axis=axis, dtype=dtype,\n",
            "/usr/local/lib/python3.11/dist-packages/numpy/core/_methods.py:129: RuntimeWarning: invalid value encountered in scalar divide\n",
            "  ret = ret.dtype.type(ret / rcount)\n"
          ]
        },
        {
          "output_type": "stream",
          "name": "stdout",
          "text": [
            "Epochs: 11 | Train Loss: 147.79735500789414 Train Precision: 0.11470867383479343 Train Recall: 0.1726645957809485           \n",
            "           | Vsl Loss 66.62836153674533 Val Precision: nan | Val Recall: nan\n"
          ]
        },
        {
          "output_type": "stream",
          "name": "stderr",
          "text": [
            "100%|██████████| 2/2 [00:00<00:00, 15.89it/s]\n",
            "100%|██████████| 1/1 [00:00<00:00, 72.50it/s]\n"
          ]
        },
        {
          "output_type": "stream",
          "name": "stdout",
          "text": [
            "Epochs: 12 | Train Loss: 143.59084431483154 Train Precision: 0.13758322510493473 Train Recall: 0.07931238675648018           \n",
            "           | Vsl Loss 65.95583554461444 Val Precision: 0.02564102564102564 | Val Recall: 0.09090909090909091\n"
          ]
        },
        {
          "output_type": "stream",
          "name": "stderr",
          "text": [
            "100%|██████████| 2/2 [00:00<00:00, 14.22it/s]\n",
            "100%|██████████| 1/1 [00:00<00:00, 73.38it/s]\n"
          ]
        },
        {
          "output_type": "stream",
          "name": "stdout",
          "text": [
            "Epochs: 13 | Train Loss: 143.2613677910852 Train Precision: 0.06037178606992404 Train Recall: 0.1458096140963124           \n",
            "           | Vsl Loss 65.1423122643587 Val Precision: 0.06657848324514991 | Val Recall: 0.25\n"
          ]
        },
        {
          "output_type": "stream",
          "name": "stderr",
          "text": [
            "100%|██████████| 2/2 [00:00<00:00, 13.87it/s]\n",
            "100%|██████████| 1/1 [00:00<00:00, 62.50it/s]\n"
          ]
        },
        {
          "output_type": "stream",
          "name": "stdout",
          "text": [
            "Epochs: 14 | Train Loss: 135.16091378786064 Train Precision: 0.04930929835360139 Train Recall: 0.09883414753459167           \n",
            "           | Vsl Loss 64.4989735946744 Val Precision: 0.06321839080459771 | Val Recall: 0.25\n"
          ]
        },
        {
          "output_type": "stream",
          "name": "stderr",
          "text": [
            "100%|██████████| 2/2 [00:00<00:00, 15.42it/s]\n",
            "100%|██████████| 1/1 [00:00<00:00, 72.08it/s]\n"
          ]
        },
        {
          "output_type": "stream",
          "name": "stdout",
          "text": [
            "Epochs: 15 | Train Loss: 139.61296781205428 Train Precision: 0.13730946425364343 Train Recall: 0.08081515071419014           \n",
            "           | Vsl Loss 64.07050385131696 Val Precision: 0.04673913043478261 | Val Recall: 0.20454545454545456\n"
          ]
        },
        {
          "output_type": "stream",
          "name": "stderr",
          "text": [
            "100%|██████████| 2/2 [00:00<00:00, 15.63it/s]\n",
            "100%|██████████| 1/1 [00:00<00:00, 71.93it/s]\n"
          ]
        },
        {
          "output_type": "stream",
          "name": "stdout",
          "text": [
            "Epochs: 16 | Train Loss: 139.29979819965246 Train Precision: 0.045877185551248395 Train Recall: 0.09476056125278116           \n",
            "           | Vsl Loss 63.607962858894204 Val Precision: 0.03553921568627451 | Val Recall: 0.20454545454545456\n"
          ]
        },
        {
          "output_type": "stream",
          "name": "stderr",
          "text": [
            "100%|██████████| 2/2 [00:00<00:00, 14.90it/s]\n",
            "100%|██████████| 1/1 [00:00<00:00, 73.67it/s]\n"
          ]
        },
        {
          "output_type": "stream",
          "name": "stdout",
          "text": [
            "Epochs: 17 | Train Loss: 139.17148853095063 Train Precision: 0.047286612159893826 Train Recall: 0.12569779290159874           \n",
            "           | Vsl Loss 63.328867806161185 Val Precision: 0.044705294705294704 | Val Recall: 0.20454545454545456\n"
          ]
        },
        {
          "output_type": "stream",
          "name": "stderr",
          "text": [
            "100%|██████████| 2/2 [00:00<00:00, 15.57it/s]\n",
            "100%|██████████| 1/1 [00:00<00:00, 71.94it/s]\n"
          ]
        },
        {
          "output_type": "stream",
          "name": "stdout",
          "text": [
            "Epochs: 18 | Train Loss: 141.01157097133762 Train Precision: 0.053638077109648505 Train Recall: 0.10479754164146476           \n",
            "           | Vsl Loss 62.81894674041029 Val Precision: 0.07767042404723565 | Val Recall: 0.07575757575757576\n"
          ]
        },
        {
          "output_type": "stream",
          "name": "stderr",
          "text": [
            "100%|██████████| 2/2 [00:00<00:00, 15.24it/s]\n",
            "100%|██████████| 1/1 [00:00<00:00, 59.03it/s]\n"
          ]
        },
        {
          "output_type": "stream",
          "name": "stdout",
          "text": [
            "Epochs: 19 | Train Loss: 135.22860934389774 Train Precision: 0.054088225981252715 Train Recall: 0.09900843576799932           \n",
            "           | Vsl Loss 62.18505622075201 Val Precision: 0.03883374689826303 | Val Recall: 0.2272727272727273\n"
          ]
        },
        {
          "output_type": "stream",
          "name": "stderr",
          "text": [
            "100%|██████████| 2/2 [00:00<00:00, 14.52it/s]\n",
            "100%|██████████| 1/1 [00:00<00:00, 74.28it/s]"
          ]
        },
        {
          "output_type": "stream",
          "name": "stdout",
          "text": [
            "Epochs: 20 | Train Loss: 137.70438914650396 Train Precision: 0.054952209897188034 Train Recall: 0.09844977511488287           \n",
            "           | Vsl Loss 61.53873119903608 Val Precision: 0.033620450125034736 | Val Recall: 0.18181818181818182\n"
          ]
        },
        {
          "output_type": "stream",
          "name": "stderr",
          "text": [
            "\n"
          ]
        }
      ]
    },
    {
      "cell_type": "code",
      "source": [
        "# count_vectorizer\n",
        "\n",
        "set_seed(42)\n",
        "\n",
        "device = 'cuda' if torch.cuda.is_available() else 'cpu'\n",
        "print(\"device - \", device)\n",
        "\n",
        "model = init_my_model(device, 404)\n",
        "\n",
        "train_data = My_dataset(df_train, \"count_vectorizer\")\n",
        "val_data = My_dataset(df_val, \"count_vectorizer\")\n",
        "\n",
        "batch_size = 2048\n",
        "train_loader = DataLoader(train_data, batch_size=batch_size, shuffle=True)\n",
        "val_loader = DataLoader(val_data, batch_size=batch_size)\n",
        "\n",
        "optimizer = init_my_optimizer(model)\n",
        "criterion = init_my_criterion(df_train, device)\n",
        "\n",
        "train_my_model(epochs=20, model=model, train_loader=train_loader, val_loader=val_loader, device=device, criterion=criterion, optimizer=optimizer)"
      ],
      "metadata": {
        "id": "Q1U5Ia7940Nl",
        "colab": {
          "base_uri": "https://localhost:8080/"
        },
        "outputId": "e1bf0276-2f26-46bc-cb51-70fa740cb220"
      },
      "execution_count": null,
      "outputs": [
        {
          "output_type": "stream",
          "name": "stdout",
          "text": [
            "device -  cpu\n"
          ]
        },
        {
          "output_type": "stream",
          "name": "stderr",
          "text": [
            "100%|██████████| 2/2 [00:00<00:00, 22.95it/s]\n",
            "100%|██████████| 1/1 [00:00<00:00, 98.98it/s]\n"
          ]
        },
        {
          "output_type": "stream",
          "name": "stdout",
          "text": [
            "Epochs: 1 | Train Loss: 143.32726384472926 Train Precision: 0.0686176733350497 Train Recall: 0.08687085721386477           \n",
            "          | Vsl Loss 68.78485400242027 Val Precision: 0.5055632514848616 | Val Recall: 0.4154876663584094\n"
          ]
        },
        {
          "output_type": "stream",
          "name": "stderr",
          "text": [
            "100%|██████████| 2/2 [00:00<00:00, 22.95it/s]\n",
            "100%|██████████| 1/1 [00:00<00:00, 97.42it/s]\n"
          ]
        },
        {
          "output_type": "stream",
          "name": "stdout",
          "text": [
            "Epochs: 2 | Train Loss: 124.94782827267682 Train Precision: 0.1525597554843476 Train Recall: 0.13994751931364066           \n",
            "          | Vsl Loss 66.34289796835418 Val Precision: 0.5132137551522878 | Val Recall: 0.49456518511335484\n"
          ]
        },
        {
          "output_type": "stream",
          "name": "stderr",
          "text": [
            "100%|██████████| 2/2 [00:00<00:00, 22.07it/s]\n",
            "100%|██████████| 1/1 [00:00<00:00, 97.01it/s]\n"
          ]
        },
        {
          "output_type": "stream",
          "name": "stdout",
          "text": [
            "Epochs: 3 | Train Loss: 123.95104599032736 Train Precision: 0.20925467231541683 Train Recall: 0.23015234438146545           \n",
            "          | Vsl Loss 63.255677032438165 Val Precision: 0.5434285148817842 | Val Recall: 0.4725400258315363\n"
          ]
        },
        {
          "output_type": "stream",
          "name": "stderr",
          "text": [
            "100%|██████████| 2/2 [00:00<00:00, 22.48it/s]\n",
            "100%|██████████| 1/1 [00:00<00:00, 96.74it/s]\n"
          ]
        },
        {
          "output_type": "stream",
          "name": "stdout",
          "text": [
            "Epochs: 4 | Train Loss: 106.08581684633913 Train Precision: 0.24617225296736306 Train Recall: 0.2834606170974147           \n",
            "          | Vsl Loss 59.468201924837906 Val Precision: 0.5090274521493657 | Val Recall: 0.5039543694586875\n"
          ]
        },
        {
          "output_type": "stream",
          "name": "stderr",
          "text": [
            "100%|██████████| 2/2 [00:00<00:00, 21.33it/s]\n",
            "100%|██████████| 1/1 [00:00<00:00, 93.48it/s]\n"
          ]
        },
        {
          "output_type": "stream",
          "name": "stdout",
          "text": [
            "Epochs: 5 | Train Loss: 96.65402478652445 Train Precision: 0.3505608952582394 Train Recall: 0.3327101371512029           \n",
            "          | Vsl Loss 55.31185616471586 Val Precision: 0.518559054439323 | Val Recall: 0.5114731664511687\n"
          ]
        },
        {
          "output_type": "stream",
          "name": "stderr",
          "text": [
            "100%|██████████| 2/2 [00:00<00:00, 19.56it/s]\n",
            "100%|██████████| 1/1 [00:00<00:00, 105.47it/s]\n"
          ]
        },
        {
          "output_type": "stream",
          "name": "stdout",
          "text": [
            "Epochs: 6 | Train Loss: 93.85351180164406 Train Precision: 0.35949220307174395 Train Recall: 0.3268367783291425           \n",
            "          | Vsl Loss 51.220888753394696 Val Precision: 0.544157775345856 | Val Recall: 0.5021610733607638\n"
          ]
        },
        {
          "output_type": "stream",
          "name": "stderr",
          "text": [
            "100%|██████████| 2/2 [00:00<00:00, 21.37it/s]\n",
            "100%|██████████| 1/1 [00:00<00:00, 95.57it/s]\n"
          ]
        },
        {
          "output_type": "stream",
          "name": "stdout",
          "text": [
            "Epochs: 7 | Train Loss: 85.40307607857079 Train Precision: 0.3785392209580041 Train Recall: 0.33232314623935033           \n",
            "          | Vsl Loss 47.616416856757716 Val Precision: 0.5537820875242094 | Val Recall: 0.51585154955124\n"
          ]
        },
        {
          "output_type": "stream",
          "name": "stderr",
          "text": [
            "100%|██████████| 2/2 [00:00<00:00, 21.72it/s]\n",
            "100%|██████████| 1/1 [00:00<00:00, 95.71it/s]\n"
          ]
        },
        {
          "output_type": "stream",
          "name": "stdout",
          "text": [
            "Epochs: 8 | Train Loss: 84.71044458861675 Train Precision: 0.3880327017141056 Train Recall: 0.36753322393328897           \n",
            "          | Vsl Loss 44.664981200601396 Val Precision: 0.5837176425232924 | Val Recall: 0.5103220767307455\n"
          ]
        },
        {
          "output_type": "stream",
          "name": "stderr",
          "text": [
            "100%|██████████| 2/2 [00:00<00:00, 16.48it/s]\n",
            "100%|██████████| 1/1 [00:00<00:00, 76.38it/s]\n"
          ]
        },
        {
          "output_type": "stream",
          "name": "stdout",
          "text": [
            "Epochs: 9 | Train Loss: 81.40533477082113 Train Precision: 0.42296732304499723 Train Recall: 0.37613341701650616           \n",
            "          | Vsl Loss 42.43562732534722 Val Precision: 0.5439415651649725 | Val Recall: 0.511558935110461\n"
          ]
        },
        {
          "output_type": "stream",
          "name": "stderr",
          "text": [
            "100%|██████████| 2/2 [00:00<00:00, 22.25it/s]\n",
            "100%|██████████| 1/1 [00:00<00:00, 79.90it/s]\n"
          ]
        },
        {
          "output_type": "stream",
          "name": "stdout",
          "text": [
            "Epochs: 10 | Train Loss: 82.15735893325132 Train Precision: 0.3722915774153915 Train Recall: 0.41604985078314416           \n",
            "           | Vsl Loss 40.770128059758505 Val Precision: 0.5454806039558634 | Val Recall: 0.5108477415421246\n"
          ]
        },
        {
          "output_type": "stream",
          "name": "stderr",
          "text": [
            "100%|██████████| 2/2 [00:00<00:00, 20.17it/s]\n",
            "100%|██████████| 1/1 [00:00<00:00, 77.82it/s]\n"
          ]
        },
        {
          "output_type": "stream",
          "name": "stdout",
          "text": [
            "Epochs: 11 | Train Loss: 79.98046005798425 Train Precision: 0.45732127100412323 Train Recall: 0.3960594195730216           \n",
            "           | Vsl Loss 39.5272447679215 Val Precision: 0.5556806210141075 | Val Recall: 0.5125484218142334\n"
          ]
        },
        {
          "output_type": "stream",
          "name": "stderr",
          "text": [
            "100%|██████████| 2/2 [00:00<00:00, 21.94it/s]\n",
            "100%|██████████| 1/1 [00:00<00:00, 91.99it/s]\n"
          ]
        },
        {
          "output_type": "stream",
          "name": "stdout",
          "text": [
            "Epochs: 12 | Train Loss: 75.11647743989344 Train Precision: 0.455923223195765 Train Recall: 0.48873757965333764           \n",
            "           | Vsl Loss 38.61434834787408 Val Precision: 0.5529609457854894 | Val Recall: 0.526134877130012\n"
          ]
        },
        {
          "output_type": "stream",
          "name": "stderr",
          "text": [
            "100%|██████████| 2/2 [00:00<00:00, 21.95it/s]\n",
            "100%|██████████| 1/1 [00:00<00:00, 93.36it/s]\n"
          ]
        },
        {
          "output_type": "stream",
          "name": "stdout",
          "text": [
            "Epochs: 13 | Train Loss: 68.19593147683025 Train Precision: 0.41679174218235965 Train Recall: 0.39979527274434756           \n",
            "           | Vsl Loss 37.910555736169044 Val Precision: 0.5466753396680687 | Val Recall: 0.5331103946097312\n"
          ]
        },
        {
          "output_type": "stream",
          "name": "stderr",
          "text": [
            "100%|██████████| 2/2 [00:00<00:00, 21.45it/s]\n",
            "100%|██████████| 1/1 [00:00<00:00, 97.55it/s]\n"
          ]
        },
        {
          "output_type": "stream",
          "name": "stdout",
          "text": [
            "Epochs: 14 | Train Loss: 69.49373974651789 Train Precision: 0.40983896134189635 Train Recall: 0.4515422841761419           \n",
            "           | Vsl Loss 37.33615502224559 Val Precision: 0.5565829581274093 | Val Recall: 0.5354913469906836\n"
          ]
        },
        {
          "output_type": "stream",
          "name": "stderr",
          "text": [
            "100%|██████████| 2/2 [00:00<00:00, 22.87it/s]\n",
            "100%|██████████| 1/1 [00:00<00:00, 89.32it/s]\n"
          ]
        },
        {
          "output_type": "stream",
          "name": "stdout",
          "text": [
            "Epochs: 15 | Train Loss: 68.27712236999739 Train Precision: 0.4292974379638283 Train Recall: 0.3871576052655061           \n",
            "           | Vsl Loss 36.86686824197729 Val Precision: 0.5382168305335397 | Val Recall: 0.5260269551733505\n"
          ]
        },
        {
          "output_type": "stream",
          "name": "stderr",
          "text": [
            "100%|██████████| 2/2 [00:00<00:00, 19.98it/s]\n",
            "100%|██████████| 1/1 [00:00<00:00, 75.39it/s]\n"
          ]
        },
        {
          "output_type": "stream",
          "name": "stdout",
          "text": [
            "Epochs: 16 | Train Loss: 68.0100030209667 Train Precision: 0.45508133975887843 Train Recall: 0.3928178597928459           \n",
            "           | Vsl Loss 36.52014841775584 Val Precision: 0.5434464842375291 | Val Recall: 0.5272347027835348\n"
          ]
        },
        {
          "output_type": "stream",
          "name": "stderr",
          "text": [
            "100%|██████████| 2/2 [00:00<00:00, 21.57it/s]\n",
            "100%|██████████| 1/1 [00:00<00:00, 74.33it/s]\n"
          ]
        },
        {
          "output_type": "stream",
          "name": "stdout",
          "text": [
            "Epochs: 17 | Train Loss: 62.13860541704378 Train Precision: 0.4016813156866461 Train Recall: 0.43418611437976484           \n",
            "           | Vsl Loss 36.2906106040323 Val Precision: 0.5160282569946435 | Val Recall: 0.550040196833651\n"
          ]
        },
        {
          "output_type": "stream",
          "name": "stderr",
          "text": [
            "100%|██████████| 2/2 [00:00<00:00, 15.22it/s]\n",
            "100%|██████████| 1/1 [00:00<00:00, 69.24it/s]\n"
          ]
        },
        {
          "output_type": "stream",
          "name": "stdout",
          "text": [
            "Epochs: 18 | Train Loss: 64.21925523970384 Train Precision: 0.441856753461098 Train Recall: 0.4303917015926427           \n",
            "           | Vsl Loss 36.08984624414821 Val Precision: 0.5357546407171594 | Val Recall: 0.5440095945584266\n"
          ]
        },
        {
          "output_type": "stream",
          "name": "stderr",
          "text": [
            "100%|██████████| 2/2 [00:00<00:00, 19.19it/s]\n",
            "100%|██████████| 1/1 [00:00<00:00, 71.26it/s]\n"
          ]
        },
        {
          "output_type": "stream",
          "name": "stdout",
          "text": [
            "Epochs: 19 | Train Loss: 62.21532906833289 Train Precision: 0.46980512870284546 Train Recall: 0.4416132967153744           \n",
            "           | Vsl Loss 35.95157504708321 Val Precision: 0.5672534226523535 | Val Recall: 0.5328206268238574\n"
          ]
        },
        {
          "output_type": "stream",
          "name": "stderr",
          "text": [
            "100%|██████████| 2/2 [00:00<00:00, 20.11it/s]\n",
            "100%|██████████| 1/1 [00:00<00:00, 81.46it/s]"
          ]
        },
        {
          "output_type": "stream",
          "name": "stdout",
          "text": [
            "Epochs: 20 | Train Loss: 59.431300788739165 Train Precision: 0.4325424577271191 Train Recall: 0.4722023142278708           \n",
            "           | Vsl Loss 35.87706076088012 Val Precision: 0.5279926891290527 | Val Recall: 0.5541062761862086\n"
          ]
        },
        {
          "output_type": "stream",
          "name": "stderr",
          "text": [
            "\n"
          ]
        }
      ]
    },
    {
      "cell_type": "markdown",
      "source": [
        "**Выводы:**"
      ],
      "metadata": {
        "id": "u1_xSL9NDSp5"
      }
    },
    {
      "cell_type": "markdown",
      "source": [
        "|           | fast_text (Tanh) | fast_text (ReLU) | word_2_vec (Tanh) | word_2_vec (ReLU) | count_vectorizer (Tanh) | count_vectorizer (ReLU) |\n",
        "|-----------|------------------|------------------|-------------------|------------------|-------------------------|-------------------------|\n",
        "| Loss      | 62.95            | 60.85            | 61.43             | 61.00            | 35.88                   | 42.00                   |\n",
        "| Precision | 0.20             | 0.09             | 0.05              | 0.05             | 0.53                    | 0.54                    |\n",
        "| Recall    | 0.41             | 0.70             | 0.15              | 0.23             | 0.55                    | 0.53                    |"
      ],
      "metadata": {
        "id": "13omrc2wkIPh"
      }
    },
    {
      "cell_type": "markdown",
      "source": [
        "Относительно двух других рассмотренных способов векторизации, лучше всего себя показал `count_vectorizer`. Во время обучения loss был снижен с 68.79 (1 эпоха) до 35.88 (20 эпоха). Также, видно, что попадание в верный класс категории просиходит в 50% у `count_vectorizer`. Возможно, это не самый лучший абсолютный результат, однако - это самый высокий относительный результат. Останавливаю свой выбор на `count_vectorizer`."
      ],
      "metadata": {
        "id": "sPlEMukWDTpI"
      }
    },
    {
      "cell_type": "markdown",
      "source": [
        "Изменение функции активации заметно повлияло на FastText, но не принесло никаких значимых плодов на других способах векторизации."
      ],
      "metadata": {
        "id": "lupc3JIvArpP"
      }
    },
    {
      "cell_type": "markdown",
      "source": [
        "## Сохранение модели"
      ],
      "metadata": {
        "id": "wq__FERLlNtZ"
      }
    },
    {
      "cell_type": "code",
      "source": [
        "torch.save(model, \"./model.pth\")"
      ],
      "metadata": {
        "id": "a3EjGFrOlRH7"
      },
      "execution_count": null,
      "outputs": []
    },
    {
      "cell_type": "markdown",
      "source": [
        "# Предсказание категории"
      ],
      "metadata": {
        "id": "093mjDro0v8a"
      }
    },
    {
      "cell_type": "code",
      "source": [
        "model.eval()\n",
        "input = \"Профессиональный Строительный Инструмент (Оборудование)\"\n",
        "\n",
        "input_tmp = drop_punctuation(input, symbols_to_avoid)\n",
        "input_tokenized = normilise_text(input_tmp, morph)\n",
        "input_vectorized = vectorizer.transform([input_tokenized]).toarray()[0]\n",
        "\n",
        "output = model(torch.tensor([input_vectorized])).detach().numpy()\n",
        "\n",
        "category_encoded_map_reversed[np.argmax(output)]"
      ],
      "metadata": {
        "id": "rsYQTeKovrwC",
        "colab": {
          "base_uri": "https://localhost:8080/",
          "height": 89
        },
        "outputId": "0104bfef-ebef-4c79-e475-1cf82a6e456a"
      },
      "execution_count": null,
      "outputs": [
        {
          "output_type": "stream",
          "name": "stderr",
          "text": [
            "<ipython-input-65-4025a1ab6df5>:8: UserWarning: Creating a tensor from a list of numpy.ndarrays is extremely slow. Please consider converting the list to a single numpy.ndarray with numpy.array() before converting to a tensor. (Triggered internally at /pytorch/torch/csrc/utils/tensor_new.cpp:254.)\n",
            "  output = model(torch.tensor([input_vectorized])).detach().numpy()\n"
          ]
        },
        {
          "output_type": "execute_result",
          "data": {
            "text/plain": [
              "'Промышленное оборудование'"
            ],
            "application/vnd.google.colaboratory.intrinsic+json": {
              "type": "string"
            }
          },
          "metadata": {},
          "execution_count": 65
        }
      ]
    },
    {
      "cell_type": "code",
      "source": [
        "model.eval()\n",
        "model.predict(\"Рыбалка - новости и статьи о рыбалке / Клуб рыбака - все о рыбалке\", drop_punctuation, normilise_text, vectorizer)"
      ],
      "metadata": {
        "id": "g1QnX7AoxhAC",
        "colab": {
          "base_uri": "https://localhost:8080/",
          "height": 35
        },
        "outputId": "a2a09c9c-202b-45a8-9afe-6d1e3132a594"
      },
      "execution_count": null,
      "outputs": [
        {
          "output_type": "execute_result",
          "data": {
            "text/plain": [
              "'Средства массовой информации'"
            ],
            "application/vnd.google.colaboratory.intrinsic+json": {
              "type": "string"
            }
          },
          "metadata": {},
          "execution_count": 66
        }
      ]
    },
    {
      "cell_type": "markdown",
      "source": [
        "# Тестированием модели"
      ],
      "metadata": {
        "id": "3ropZ3F98hsr"
      }
    },
    {
      "cell_type": "code",
      "source": [
        "df_test['pred'] = df_test['input'].apply(lambda x: model.predict(x, drop_punctuation, normilise_text, vectorizer))"
      ],
      "metadata": {
        "id": "xQqKrFpk8jw7"
      },
      "execution_count": null,
      "outputs": []
    },
    {
      "cell_type": "code",
      "source": [
        "df_test['correct_guess'] =  df_test['category'] == df_test['pred']"
      ],
      "metadata": {
        "id": "GSIDoS1dORGA"
      },
      "execution_count": null,
      "outputs": []
    },
    {
      "cell_type": "code",
      "source": [
        "category_rate_target = dict(df_test['category'].value_counts())\n",
        "category_rate_pred = dict(df_test.groupby(['category']).sum()['correct_guess'])\n",
        "\n",
        "for c, i in category_rate_target.items():\n",
        "  category_rate_pred[c] = (category_rate_pred[c] / i) * 100"
      ],
      "metadata": {
        "id": "3PsIOd1Z_ouQ"
      },
      "execution_count": null,
      "outputs": []
    },
    {
      "cell_type": "code",
      "source": [
        "# категории которые лучше всего прдсказались\n",
        "sorted(category_rate_pred.items(), key=lambda item: item[1], reverse=True)[:10]"
      ],
      "metadata": {
        "id": "APnYfiup97-G",
        "colab": {
          "base_uri": "https://localhost:8080/"
        },
        "outputId": "3b2e12cf-aad8-4160-d115-ee19b0afe370"
      },
      "execution_count": null,
      "outputs": [
        {
          "output_type": "execute_result",
          "data": {
            "text/plain": [
              "[('Азартные игры', 100.0),\n",
              " ('Порнография и эротика', 100.0),\n",
              " ('Транспорт и ГСМ', 100.0),\n",
              " ('Услуги финансовые', 100.0),\n",
              " ('Услуги в системе образования и трудоустройство', 83.33333333333334),\n",
              " ('Туризм, спорт и отдых', 75.0),\n",
              " ('Услуги юридические, аудиторские и консалтинговые', 75.0),\n",
              " ('Промышленное оборудование', 73.33333333333333),\n",
              " ('Средства массовой информации', 72.72727272727273),\n",
              " ('Легковые автомобили и мототехника', 71.42857142857143)]"
            ]
          },
          "metadata": {},
          "execution_count": 70
        }
      ]
    },
    {
      "cell_type": "code",
      "source": [
        "# категории которые хуже всего прдсказались\n",
        "sorted(category_rate_pred.items(), key=lambda item: item[1])[:10]"
      ],
      "metadata": {
        "id": "Qxcdt_D__Pz0",
        "colab": {
          "base_uri": "https://localhost:8080/"
        },
        "outputId": "2ff6318b-66ca-4e0c-d163-e9fbac4f4da7"
      },
      "execution_count": null,
      "outputs": [
        {
          "output_type": "execute_result",
          "data": {
            "text/plain": [
              "[('Автосервисы', 0.0),\n",
              " ('Благотворительная деятельность', 0.0),\n",
              " ('Бытовая техника', 0.0),\n",
              " ('Бытовая химия', 0.0),\n",
              " ('Грузовые автомобили', 0.0),\n",
              " ('Досуг и развлечения', 0.0),\n",
              " ('Компьютерная техника и ПО', 0.0),\n",
              " ('Косметика, уход, гигиена', 0.0),\n",
              " ('Лекарственные препараты', 0.0),\n",
              " ('Логотипы и бренды', 0.0)]"
            ]
          },
          "metadata": {},
          "execution_count": 71
        }
      ]
    },
    {
      "cell_type": "markdown",
      "source": [
        "Данные были не равномерно распределены. Предположу, что лучше предсказались категории, по которым данных было больше."
      ],
      "metadata": {
        "id": "guSrGIMiUUiy"
      }
    },
    {
      "cell_type": "code",
      "source": [
        "d = dict(df_train['category'].value_counts())"
      ],
      "metadata": {
        "id": "rU6kI8lXTgSR"
      },
      "execution_count": null,
      "outputs": []
    },
    {
      "cell_type": "code",
      "source": [
        "print(d['Азартные игры'])\n",
        "print(d['Порнография и эротика'])\n",
        "print(d['Транспорт и ГСМ'])"
      ],
      "metadata": {
        "id": "S7lCHaiVT4ps",
        "colab": {
          "base_uri": "https://localhost:8080/"
        },
        "outputId": "4babc58d-368d-4ca8-bf20-284dbfa42c94"
      },
      "execution_count": null,
      "outputs": [
        {
          "output_type": "stream",
          "name": "stdout",
          "text": [
            "29\n",
            "17\n",
            "44\n"
          ]
        }
      ]
    },
    {
      "cell_type": "code",
      "source": [
        "print(d['Автосервисы'])\n",
        "print(d['Бытовая техника'])\n",
        "print(d['Благотворительная деятельность'])"
      ],
      "metadata": {
        "id": "g24MG2wDUPXp",
        "colab": {
          "base_uri": "https://localhost:8080/"
        },
        "outputId": "bb131b85-eea4-4988-d20d-18da239bc627"
      },
      "execution_count": null,
      "outputs": [
        {
          "output_type": "stream",
          "name": "stdout",
          "text": [
            "43\n",
            "28\n",
            "15\n"
          ]
        }
      ]
    },
    {
      "cell_type": "markdown",
      "source": [
        "Предположение оказалось неверным."
      ],
      "metadata": {
        "id": "dUplAtW-UvPg"
      }
    },
    {
      "cell_type": "code",
      "source": [
        "filtered = {k: v for k, v in category_rate_pred.items() if v != 0}\n",
        "fig, ax = plt.subplots(figsize=(30,10))\n",
        "ax.bar(filtered.keys(), filtered.values())\n",
        "\n",
        "for i, (key, value) in enumerate(filtered.items()):\n",
        "    ax.text(i, value + 0.5, str(round(value)), ha='center', va='bottom')\n",
        "\n",
        "ax.set_title(\"The percentage of correctly predicted categories in each class\")\n",
        "ax.set_xlabel(\"Categories\")\n",
        "ax.set_ylabel(\"Percentage\")\n",
        "ax.xaxis.label.set_size(25)\n",
        "ax.set_xticklabels(ax.get_xticklabels(), rotation=45, ha='right')\n",
        "plt.savefig(\"category_rate_pred.png\")\n",
        "plt.plot()"
      ],
      "metadata": {
        "id": "D--qrTigZVgt",
        "colab": {
          "base_uri": "https://localhost:8080/",
          "height": 575
        },
        "outputId": "c8ba8d5a-9142-43b4-e374-fd3b58784a57"
      },
      "execution_count": null,
      "outputs": [
        {
          "output_type": "stream",
          "name": "stderr",
          "text": [
            "<ipython-input-78-80324229561b>:12: UserWarning: set_ticklabels() should only be used with a fixed number of ticks, i.e. after set_ticks() or using a FixedLocator.\n",
            "  ax.set_xticklabels(ax.get_xticklabels(), rotation=45, ha='right')\n"
          ]
        },
        {
          "output_type": "execute_result",
          "data": {
            "text/plain": [
              "[]"
            ]
          },
          "metadata": {},
          "execution_count": 78
        },
        {
          "output_type": "display_data",
          "data": {
            "text/plain": [
              "<Figure size 3000x1000 with 1 Axes>"
            ],
            "image/png": "[encoded data removed]"
          },
          "metadata": {}
        }
      ]
    },
    {
      "cell_type": "markdown",
      "source": [
        " Второе предположение об ошибках в предсказаниях - есть очень похожие между собой категории. Посмотрим на них."
      ],
      "metadata": {
        "id": "aP23Iwfnk_BQ"
      }
    },
    {
      "cell_type": "code",
      "source": [
        "df_test[df_test['category'] == \"Автосервисы\"][['category', 'pred']]"
      ],
      "metadata": {
        "id": "MwUd7LF0WTGu",
        "colab": {
          "base_uri": "https://localhost:8080/",
          "height": 204
        },
        "outputId": "05400974-49e7-48a9-fc88-ef7cacfa7eae"
      },
      "execution_count": null,
      "outputs": [
        {
          "output_type": "execute_result",
          "data": {
            "text/plain": [
              "         category                        pred\n",
              "1061  Автосервисы             Транспорт и ГСМ\n",
              "0     Автосервисы  Услуги в области интернета\n",
              "2093  Автосервисы             Транспорт и ГСМ\n",
              "1764  Автосервисы              Одежда и обувь\n",
              "2700  Автосервисы             Транспорт и ГСМ"
            ],
            "text/html": [
              "\n",
              "  <div id=\"df-ad1714d4-460d-4fc7-a53f-342f99f8d9d5\" class=\"colab-df-container\">\n",
              "    <div>\n",
              "<style scoped>\n",
              "    .dataframe tbody tr th:only-of-type {\n",
              "        vertical-align: middle;\n",
              "    }\n",
              "\n",
              "    .dataframe tbody tr th {\n",
              "        vertical-align: top;\n",
              "    }\n",
              "\n",
              "    .dataframe thead th {\n",
              "        text-align: right;\n",
              "    }\n",
              "</style>\n",
              "<table border=\"1\" class=\"dataframe\">\n",
              "  <thead>\n",
              "    <tr style=\"text-align: right;\">\n",
              "      <th></th>\n",
              "      <th>category</th>\n",
              "      <th>pred</th>\n",
              "    </tr>\n",
              "  </thead>\n",
              "  <tbody>\n",
              "    <tr>\n",
              "      <th>1061</th>\n",
              "      <td>Автосервисы</td>\n",
              "      <td>Транспорт и ГСМ</td>\n",
              "    </tr>\n",
              "    <tr>\n",
              "      <th>0</th>\n",
              "      <td>Автосервисы</td>\n",
              "      <td>Услуги в области интернета</td>\n",
              "    </tr>\n",
              "    <tr>\n",
              "      <th>2093</th>\n",
              "      <td>Автосервисы</td>\n",
              "      <td>Транспорт и ГСМ</td>\n",
              "    </tr>\n",
              "    <tr>\n",
              "      <th>1764</th>\n",
              "      <td>Автосервисы</td>\n",
              "      <td>Одежда и обувь</td>\n",
              "    </tr>\n",
              "    <tr>\n",
              "      <th>2700</th>\n",
              "      <td>Автосервисы</td>\n",
              "      <td>Транспорт и ГСМ</td>\n",
              "    </tr>\n",
              "  </tbody>\n",
              "</table>\n",
              "</div>\n",
              "    <div class=\"colab-df-buttons\">\n",
              "\n",
              "  <div class=\"colab-df-container\">\n",
              "    <button class=\"colab-df-convert\" onclick=\"convertToInteractive('df-ad1714d4-460d-4fc7-a53f-342f99f8d9d5')\"\n",
              "            title=\"Convert this dataframe to an interactive table.\"\n",
              "            style=\"display:none;\">\n",
              "\n",
              "  <svg xmlns=\"http://www.w3.org/2000/svg\" height=\"24px\" viewBox=\"0 -960 960 960\">\n",
              "    <path d=\"M120-120v-720h720v720H120Zm60-500h600v-160H180v160Zm220 220h160v-160H400v160Zm0 220h160v-160H400v160ZM180-400h160v-160H180v160Zm440 0h160v-160H620v160ZM180-180h160v-160H180v160Zm440 0h160v-160H620v160Z\"/>\n",
              "  </svg>\n",
              "    </button>\n",
              "\n",
              "  <style>\n",
              "    .colab-df-container {\n",
              "      display:flex;\n",
              "      gap: 12px;\n",
              "    }\n",
              "\n",
              "    .colab-df-convert {\n",
              "      background-color: #E8F0FE;\n",
              "      border: none;\n",
              "      border-radius: 50%;\n",
              "      cursor: pointer;\n",
              "      display: none;\n",
              "      fill: #1967D2;\n",
              "      height: 32px;\n",
              "      padding: 0 0 0 0;\n",
              "      width: 32px;\n",
              "    }\n",
              "\n",
              "    .colab-df-convert:hover {\n",
              "      background-color: #E2EBFA;\n",
              "      box-shadow: 0px 1px 2px rgba(60, 64, 67, 0.3), 0px 1px 3px 1px rgba(60, 64, 67, 0.15);\n",
              "      fill: #174EA6;\n",
              "    }\n",
              "\n",
              "    .colab-df-buttons div {\n",
              "      margin-bottom: 4px;\n",
              "    }\n",
              "\n",
              "    [theme=dark] .colab-df-convert {\n",
              "      background-color: #3B4455;\n",
              "      fill: #D2E3FC;\n",
              "    }\n",
              "\n",
              "    [theme=dark] .colab-df-convert:hover {\n",
              "      background-color: #434B5C;\n",
              "      box-shadow: 0px 1px 3px 1px rgba(0, 0, 0, 0.15);\n",
              "      filter: drop-shadow(0px 1px 2px rgba(0, 0, 0, 0.3));\n",
              "      fill: #FFFFFF;\n",
              "    }\n",
              "  </style>\n",
              "\n",
              "    <script>\n",
              "      const buttonEl =\n",
              "        document.querySelector('#df-ad1714d4-460d-4fc7-a53f-342f99f8d9d5 button.colab-df-convert');\n",
              "      buttonEl.style.display =\n",
              "        google.colab.kernel.accessAllowed ? 'block' : 'none';\n",
              "\n",
              "      async function convertToInteractive(key) {\n",
              "        const element = document.querySelector('#df-ad1714d4-460d-4fc7-a53f-342f99f8d9d5');\n",
              "        const dataTable =\n",
              "          await google.colab.kernel.invokeFunction('convertToInteractive',\n",
              "                                                    [key], {});\n",
              "        if (!dataTable) return;\n",
              "\n",
              "        const docLinkHtml = 'Like what you see? Visit the ' +\n",
              "          '<a target=\"_blank\" href=https://colab.research.google.com/notebooks/data_table.ipynb>data table notebook</a>'\n",
              "          + ' to learn more about interactive tables.';\n",
              "        element.innerHTML = '';\n",
              "        dataTable['output_type'] = 'display_data';\n",
              "        await google.colab.output.renderOutput(dataTable, element);\n",
              "        const docLink = document.createElement('div');\n",
              "        docLink.innerHTML = docLinkHtml;\n",
              "        element.appendChild(docLink);\n",
              "      }\n",
              "    </script>\n",
              "  </div>\n",
              "\n",
              "\n",
              "    <div id=\"df-da25f356-fe15-4aac-874e-4753443f66b1\">\n",
              "      <button class=\"colab-df-quickchart\" onclick=\"quickchart('df-da25f356-fe15-4aac-874e-4753443f66b1')\"\n",
              "                title=\"Suggest charts\"\n",
              "                style=\"display:none;\">\n",
              "\n",
              "<svg xmlns=\"http://www.w3.org/2000/svg\" height=\"24px\"viewBox=\"0 0 24 24\"\n",
              "     width=\"24px\">\n",
              "    <g>\n",
              "        <path d=\"M19 3H5c-1.1 0-2 .9-2 2v14c0 1.1.9 2 2 2h14c1.1 0 2-.9 2-2V5c0-1.1-.9-2-2-2zM9 17H7v-7h2v7zm4 0h-2V7h2v10zm4 0h-2v-4h2v4z\"/>\n",
              "    </g>\n",
              "</svg>\n",
              "      </button>\n",
              "\n",
              "<style>\n",
              "  .colab-df-quickchart {\n",
              "      --bg-color: #E8F0FE;\n",
              "      --fill-color: #1967D2;\n",
              "      --hover-bg-color: #E2EBFA;\n",
              "      --hover-fill-color: #174EA6;\n",
              "      --disabled-fill-color: #AAA;\n",
              "      --disabled-bg-color: #DDD;\n",
              "  }\n",
              "\n",
              "  [theme=dark] .colab-df-quickchart {\n",
              "      --bg-color: #3B4455;\n",
              "      --fill-color: #D2E3FC;\n",
              "      --hover-bg-color: #434B5C;\n",
              "      --hover-fill-color: #FFFFFF;\n",
              "      --disabled-bg-color: #3B4455;\n",
              "      --disabled-fill-color: #666;\n",
              "  }\n",
              "\n",
              "  .colab-df-quickchart {\n",
              "    background-color: var(--bg-color);\n",
              "    border: none;\n",
              "    border-radius: 50%;\n",
              "    cursor: pointer;\n",
              "    display: none;\n",
              "    fill: var(--fill-color);\n",
              "    height: 32px;\n",
              "    padding: 0;\n",
              "    width: 32px;\n",
              "  }\n",
              "\n",
              "  .colab-df-quickchart:hover {\n",
              "    background-color: var(--hover-bg-color);\n",
              "    box-shadow: 0 1px 2px rgba(60, 64, 67, 0.3), 0 1px 3px 1px rgba(60, 64, 67, 0.15);\n",
              "    fill: var(--button-hover-fill-color);\n",
              "  }\n",
              "\n",
              "  .colab-df-quickchart-complete:disabled,\n",
              "  .colab-df-quickchart-complete:disabled:hover {\n",
              "    background-color: var(--disabled-bg-color);\n",
              "    fill: var(--disabled-fill-color);\n",
              "    box-shadow: none;\n",
              "  }\n",
              "\n",
              "  .colab-df-spinner {\n",
              "    border: 2px solid var(--fill-color);\n",
              "    border-color: transparent;\n",
              "    border-bottom-color: var(--fill-color);\n",
              "    animation:\n",
              "      spin 1s steps(1) infinite;\n",
              "  }\n",
              "\n",
              "  @keyframes spin {\n",
              "    0% {\n",
              "      border-color: transparent;\n",
              "      border-bottom-color: var(--fill-color);\n",
              "      border-left-color: var(--fill-color);\n",
              "    }\n",
              "    20% {\n",
              "      border-color: transparent;\n",
              "      border-left-color: var(--fill-color);\n",
              "      border-top-color: var(--fill-color);\n",
              "    }\n",
              "    30% {\n",
              "      border-color: transparent;\n",
              "      border-left-color: var(--fill-color);\n",
              "      border-top-color: var(--fill-color);\n",
              "      border-right-color: var(--fill-color);\n",
              "    }\n",
              "    40% {\n",
              "      border-color: transparent;\n",
              "      border-right-color: var(--fill-color);\n",
              "      border-top-color: var(--fill-color);\n",
              "    }\n",
              "    60% {\n",
              "      border-color: transparent;\n",
              "      border-right-color: var(--fill-color);\n",
              "    }\n",
              "    80% {\n",
              "      border-color: transparent;\n",
              "      border-right-color: var(--fill-color);\n",
              "      border-bottom-color: var(--fill-color);\n",
              "    }\n",
              "    90% {\n",
              "      border-color: transparent;\n",
              "      border-bottom-color: var(--fill-color);\n",
              "    }\n",
              "  }\n",
              "</style>\n",
              "\n",
              "      <script>\n",
              "        async function quickchart(key) {\n",
              "          const quickchartButtonEl =\n",
              "            document.querySelector('#' + key + ' button');\n",
              "          quickchartButtonEl.disabled = true;  // To prevent multiple clicks.\n",
              "          quickchartButtonEl.classList.add('colab-df-spinner');\n",
              "          try {\n",
              "            const charts = await google.colab.kernel.invokeFunction(\n",
              "                'suggestCharts', [key], {});\n",
              "          } catch (error) {\n",
              "            console.error('Error during call to suggestCharts:', error);\n",
              "          }\n",
              "          quickchartButtonEl.classList.remove('colab-df-spinner');\n",
              "          quickchartButtonEl.classList.add('colab-df-quickchart-complete');\n",
              "        }\n",
              "        (() => {\n",
              "          let quickchartButtonEl =\n",
              "            document.querySelector('#df-da25f356-fe15-4aac-874e-4753443f66b1 button');\n",
              "          quickchartButtonEl.style.display =\n",
              "            google.colab.kernel.accessAllowed ? 'block' : 'none';\n",
              "        })();\n",
              "      </script>\n",
              "    </div>\n",
              "    </div>\n",
              "  </div>\n"
            ],
            "application/vnd.google.colaboratory.intrinsic+json": {
              "type": "dataframe",
              "summary": "{\n  \"name\": \"df_test[df_test['category'] == \\\"\\u0410\\u0432\\u0442\\u043e\\u0441\\u0435\\u0440\\u0432\\u0438\\u0441\\u044b\\\"][['category', 'pred']]\",\n  \"rows\": 5,\n  \"fields\": [\n    {\n      \"column\": \"category\",\n      \"properties\": {\n        \"dtype\": \"category\",\n        \"num_unique_values\": 1,\n        \"samples\": [\n          \"\\u0410\\u0432\\u0442\\u043e\\u0441\\u0435\\u0440\\u0432\\u0438\\u0441\\u044b\"\n        ],\n        \"semantic_type\": \"\",\n        \"description\": \"\"\n      }\n    },\n    {\n      \"column\": \"pred\",\n      \"properties\": {\n        \"dtype\": \"string\",\n        \"num_unique_values\": 3,\n        \"samples\": [\n          \"\\u0422\\u0440\\u0430\\u043d\\u0441\\u043f\\u043e\\u0440\\u0442 \\u0438 \\u0413\\u0421\\u041c\"\n        ],\n        \"semantic_type\": \"\",\n        \"description\": \"\"\n      }\n    }\n  ]\n}"
            }
          },
          "metadata": {},
          "execution_count": 79
        }
      ]
    },
    {
      "cell_type": "markdown",
      "source": [
        "категории Автосервисы и Транспорт действительно между собой могут быть похожи. Они связаны как логически, так и общим набором слов,  которые могут встретиться в текстах обеих категорий."
      ],
      "metadata": {
        "id": "4k9pN0txlpBv"
      }
    },
    {
      "cell_type": "code",
      "source": [
        "df_test[df_test['category'] == \"Бытовая техника\"][['input', 'category', 'pred']]"
      ],
      "metadata": {
        "id": "LQw2rMFgiok7",
        "colab": {
          "base_uri": "https://localhost:8080/",
          "height": 142
        },
        "outputId": "054b19b6-da0f-4519-cc27-39680a9845f4"
      },
      "execution_count": null,
      "outputs": [
        {
          "output_type": "execute_result",
          "data": {
            "text/plain": [
              "                                                  input         category  \\\n",
              "1399                            Главная — «Смарт Стоун»  Бытовая техника   \n",
              "637   Бытовая техника. Все что нужно знать домохозяи...  Бытовая техника   \n",
              "1586  POWERMAN - Источники бесперебойного питания (...  Бытовая техника   \n",
              "\n",
              "                                                pred  \n",
              "1399  Услуги в системе образования и трудоустройство  \n",
              "637                        Промышленное оборудование  \n",
              "1586                           Туризм, спорт и отдых  "
            ],
            "text/html": [
              "\n",
              "  <div id=\"df-ede3f105-a01b-4649-a8de-a4df574fd749\" class=\"colab-df-container\">\n",
              "    <div>\n",
              "<style scoped>\n",
              "    .dataframe tbody tr th:only-of-type {\n",
              "        vertical-align: middle;\n",
              "    }\n",
              "\n",
              "    .dataframe tbody tr th {\n",
              "        vertical-align: top;\n",
              "    }\n",
              "\n",
              "    .dataframe thead th {\n",
              "        text-align: right;\n",
              "    }\n",
              "</style>\n",
              "<table border=\"1\" class=\"dataframe\">\n",
              "  <thead>\n",
              "    <tr style=\"text-align: right;\">\n",
              "      <th></th>\n",
              "      <th>input</th>\n",
              "      <th>category</th>\n",
              "      <th>pred</th>\n",
              "    </tr>\n",
              "  </thead>\n",
              "  <tbody>\n",
              "    <tr>\n",
              "      <th>1399</th>\n",
              "      <td>Главная — «Смарт Стоун»</td>\n",
              "      <td>Бытовая техника</td>\n",
              "      <td>Услуги в системе образования и трудоустройство</td>\n",
              "    </tr>\n",
              "    <tr>\n",
              "      <th>637</th>\n",
              "      <td>Бытовая техника. Все что нужно знать домохозяи...</td>\n",
              "      <td>Бытовая техника</td>\n",
              "      <td>Промышленное оборудование</td>\n",
              "    </tr>\n",
              "    <tr>\n",
              "      <th>1586</th>\n",
              "      <td>POWERMAN - Источники бесперебойного питания (...</td>\n",
              "      <td>Бытовая техника</td>\n",
              "      <td>Туризм, спорт и отдых</td>\n",
              "    </tr>\n",
              "  </tbody>\n",
              "</table>\n",
              "</div>\n",
              "    <div class=\"colab-df-buttons\">\n",
              "\n",
              "  <div class=\"colab-df-container\">\n",
              "    <button class=\"colab-df-convert\" onclick=\"convertToInteractive('df-ede3f105-a01b-4649-a8de-a4df574fd749')\"\n",
              "            title=\"Convert this dataframe to an interactive table.\"\n",
              "            style=\"display:none;\">\n",
              "\n",
              "  <svg xmlns=\"http://www.w3.org/2000/svg\" height=\"24px\" viewBox=\"0 -960 960 960\">\n",
              "    <path d=\"M120-120v-720h720v720H120Zm60-500h600v-160H180v160Zm220 220h160v-160H400v160Zm0 220h160v-160H400v160ZM180-400h160v-160H180v160Zm440 0h160v-160H620v160ZM180-180h160v-160H180v160Zm440 0h160v-160H620v160Z\"/>\n",
              "  </svg>\n",
              "    </button>\n",
              "\n",
              "  <style>\n",
              "    .colab-df-container {\n",
              "      display:flex;\n",
              "      gap: 12px;\n",
              "    }\n",
              "\n",
              "    .colab-df-convert {\n",
              "      background-color: #E8F0FE;\n",
              "      border: none;\n",
              "      border-radius: 50%;\n",
              "      cursor: pointer;\n",
              "      display: none;\n",
              "      fill: #1967D2;\n",
              "      height: 32px;\n",
              "      padding: 0 0 0 0;\n",
              "      width: 32px;\n",
              "    }\n",
              "\n",
              "    .colab-df-convert:hover {\n",
              "      background-color: #E2EBFA;\n",
              "      box-shadow: 0px 1px 2px rgba(60, 64, 67, 0.3), 0px 1px 3px 1px rgba(60, 64, 67, 0.15);\n",
              "      fill: #174EA6;\n",
              "    }\n",
              "\n",
              "    .colab-df-buttons div {\n",
              "      margin-bottom: 4px;\n",
              "    }\n",
              "\n",
              "    [theme=dark] .colab-df-convert {\n",
              "      background-color: #3B4455;\n",
              "      fill: #D2E3FC;\n",
              "    }\n",
              "\n",
              "    [theme=dark] .colab-df-convert:hover {\n",
              "      background-color: #434B5C;\n",
              "      box-shadow: 0px 1px 3px 1px rgba(0, 0, 0, 0.15);\n",
              "      filter: drop-shadow(0px 1px 2px rgba(0, 0, 0, 0.3));\n",
              "      fill: #FFFFFF;\n",
              "    }\n",
              "  </style>\n",
              "\n",
              "    <script>\n",
              "      const buttonEl =\n",
              "        document.querySelector('#df-ede3f105-a01b-4649-a8de-a4df574fd749 button.colab-df-convert');\n",
              "      buttonEl.style.display =\n",
              "        google.colab.kernel.accessAllowed ? 'block' : 'none';\n",
              "\n",
              "      async function convertToInteractive(key) {\n",
              "        const element = document.querySelector('#df-ede3f105-a01b-4649-a8de-a4df574fd749');\n",
              "        const dataTable =\n",
              "          await google.colab.kernel.invokeFunction('convertToInteractive',\n",
              "                                                    [key], {});\n",
              "        if (!dataTable) return;\n",
              "\n",
              "        const docLinkHtml = 'Like what you see? Visit the ' +\n",
              "          '<a target=\"_blank\" href=https://colab.research.google.com/notebooks/data_table.ipynb>data table notebook</a>'\n",
              "          + ' to learn more about interactive tables.';\n",
              "        element.innerHTML = '';\n",
              "        dataTable['output_type'] = 'display_data';\n",
              "        await google.colab.output.renderOutput(dataTable, element);\n",
              "        const docLink = document.createElement('div');\n",
              "        docLink.innerHTML = docLinkHtml;\n",
              "        element.appendChild(docLink);\n",
              "      }\n",
              "    </script>\n",
              "  </div>\n",
              "\n",
              "\n",
              "    <div id=\"df-6c37b07c-8cb2-42ce-950f-714eb37d6e5a\">\n",
              "      <button class=\"colab-df-quickchart\" onclick=\"quickchart('df-6c37b07c-8cb2-42ce-950f-714eb37d6e5a')\"\n",
              "                title=\"Suggest charts\"\n",
              "                style=\"display:none;\">\n",
              "\n",
              "<svg xmlns=\"http://www.w3.org/2000/svg\" height=\"24px\"viewBox=\"0 0 24 24\"\n",
              "     width=\"24px\">\n",
              "    <g>\n",
              "        <path d=\"M19 3H5c-1.1 0-2 .9-2 2v14c0 1.1.9 2 2 2h14c1.1 0 2-.9 2-2V5c0-1.1-.9-2-2-2zM9 17H7v-7h2v7zm4 0h-2V7h2v10zm4 0h-2v-4h2v4z\"/>\n",
              "    </g>\n",
              "</svg>\n",
              "      </button>\n",
              "\n",
              "<style>\n",
              "  .colab-df-quickchart {\n",
              "      --bg-color: #E8F0FE;\n",
              "      --fill-color: #1967D2;\n",
              "      --hover-bg-color: #E2EBFA;\n",
              "      --hover-fill-color: #174EA6;\n",
              "      --disabled-fill-color: #AAA;\n",
              "      --disabled-bg-color: #DDD;\n",
              "  }\n",
              "\n",
              "  [theme=dark] .colab-df-quickchart {\n",
              "      --bg-color: #3B4455;\n",
              "      --fill-color: #D2E3FC;\n",
              "      --hover-bg-color: #434B5C;\n",
              "      --hover-fill-color: #FFFFFF;\n",
              "      --disabled-bg-color: #3B4455;\n",
              "      --disabled-fill-color: #666;\n",
              "  }\n",
              "\n",
              "  .colab-df-quickchart {\n",
              "    background-color: var(--bg-color);\n",
              "    border: none;\n",
              "    border-radius: 50%;\n",
              "    cursor: pointer;\n",
              "    display: none;\n",
              "    fill: var(--fill-color);\n",
              "    height: 32px;\n",
              "    padding: 0;\n",
              "    width: 32px;\n",
              "  }\n",
              "\n",
              "  .colab-df-quickchart:hover {\n",
              "    background-color: var(--hover-bg-color);\n",
              "    box-shadow: 0 1px 2px rgba(60, 64, 67, 0.3), 0 1px 3px 1px rgba(60, 64, 67, 0.15);\n",
              "    fill: var(--button-hover-fill-color);\n",
              "  }\n",
              "\n",
              "  .colab-df-quickchart-complete:disabled,\n",
              "  .colab-df-quickchart-complete:disabled:hover {\n",
              "    background-color: var(--disabled-bg-color);\n",
              "    fill: var(--disabled-fill-color);\n",
              "    box-shadow: none;\n",
              "  }\n",
              "\n",
              "  .colab-df-spinner {\n",
              "    border: 2px solid var(--fill-color);\n",
              "    border-color: transparent;\n",
              "    border-bottom-color: var(--fill-color);\n",
              "    animation:\n",
              "      spin 1s steps(1) infinite;\n",
              "  }\n",
              "\n",
              "  @keyframes spin {\n",
              "    0% {\n",
              "      border-color: transparent;\n",
              "      border-bottom-color: var(--fill-color);\n",
              "      border-left-color: var(--fill-color);\n",
              "    }\n",
              "    20% {\n",
              "      border-color: transparent;\n",
              "      border-left-color: var(--fill-color);\n",
              "      border-top-color: var(--fill-color);\n",
              "    }\n",
              "    30% {\n",
              "      border-color: transparent;\n",
              "      border-left-color: var(--fill-color);\n",
              "      border-top-color: var(--fill-color);\n",
              "      border-right-color: var(--fill-color);\n",
              "    }\n",
              "    40% {\n",
              "      border-color: transparent;\n",
              "      border-right-color: var(--fill-color);\n",
              "      border-top-color: var(--fill-color);\n",
              "    }\n",
              "    60% {\n",
              "      border-color: transparent;\n",
              "      border-right-color: var(--fill-color);\n",
              "    }\n",
              "    80% {\n",
              "      border-color: transparent;\n",
              "      border-right-color: var(--fill-color);\n",
              "      border-bottom-color: var(--fill-color);\n",
              "    }\n",
              "    90% {\n",
              "      border-color: transparent;\n",
              "      border-bottom-color: var(--fill-color);\n",
              "    }\n",
              "  }\n",
              "</style>\n",
              "\n",
              "      <script>\n",
              "        async function quickchart(key) {\n",
              "          const quickchartButtonEl =\n",
              "            document.querySelector('#' + key + ' button');\n",
              "          quickchartButtonEl.disabled = true;  // To prevent multiple clicks.\n",
              "          quickchartButtonEl.classList.add('colab-df-spinner');\n",
              "          try {\n",
              "            const charts = await google.colab.kernel.invokeFunction(\n",
              "                'suggestCharts', [key], {});\n",
              "          } catch (error) {\n",
              "            console.error('Error during call to suggestCharts:', error);\n",
              "          }\n",
              "          quickchartButtonEl.classList.remove('colab-df-spinner');\n",
              "          quickchartButtonEl.classList.add('colab-df-quickchart-complete');\n",
              "        }\n",
              "        (() => {\n",
              "          let quickchartButtonEl =\n",
              "            document.querySelector('#df-6c37b07c-8cb2-42ce-950f-714eb37d6e5a button');\n",
              "          quickchartButtonEl.style.display =\n",
              "            google.colab.kernel.accessAllowed ? 'block' : 'none';\n",
              "        })();\n",
              "      </script>\n",
              "    </div>\n",
              "    </div>\n",
              "  </div>\n"
            ],
            "application/vnd.google.colaboratory.intrinsic+json": {
              "type": "dataframe",
              "summary": "{\n  \"name\": \"df_test[df_test['category'] == \\\"\\u0411\\u044b\\u0442\\u043e\\u0432\\u0430\\u044f \\u0442\\u0435\\u0445\\u043d\\u0438\\u043a\\u0430\\\"][['input', 'category', 'pred']]\",\n  \"rows\": 3,\n  \"fields\": [\n    {\n      \"column\": \"input\",\n      \"properties\": {\n        \"dtype\": \"string\",\n        \"num_unique_values\": 3,\n        \"samples\": [\n          \"\\u0413\\u043b\\u0430\\u0432\\u043d\\u0430\\u044f \\u2014 \\u00ab\\u0421\\u043c\\u0430\\u0440\\u0442 \\u0421\\u0442\\u043e\\u0443\\u043d\\u00bb\",\n          \"\\u0411\\u044b\\u0442\\u043e\\u0432\\u0430\\u044f \\u0442\\u0435\\u0445\\u043d\\u0438\\u043a\\u0430. \\u0412\\u0441\\u0435 \\u0447\\u0442\\u043e \\u043d\\u0443\\u0436\\u043d\\u043e \\u0437\\u043d\\u0430\\u0442\\u044c \\u0434\\u043e\\u043c\\u043e\\u0445\\u043e\\u0437\\u044f\\u0438\\u0306\\u043a\\u0435 \\u043e \\u0432\\u044b\\u0441\\u043e\\u043a\\u043e\\u043a\\u0430\\u0447\\u0435\\u0441\\u0442\\u0432\\u0435\\u043d\\u043d\\u043e\\u0438\\u0306 \\u0431\\u044b\\u0442\\u043e\\u0432\\u043e\\u0438\\u0306 \\u0442\\u0435\\u0445\\u043d\\u0438\\u043a\\u0435\",\n          \"POWERMAN - \\u0418\\u0441\\u0442\\u043e\\u0447\\u043d\\u0438\\u043a\\u0438 \\u0431\\u0435\\u0441\\u043f\\u0435\\u0440\\u0435\\u0431\\u043e\\u0438\\u0306\\u043d\\u043e\\u0433\\u043e \\u043f\\u0438\\u0442\\u0430\\u043d\\u0438\\u044f (\\u0418\\u0411\\u041f) | \\u0421\\u0442\\u0430\\u0431\\u0438\\u043b\\u0438\\u0437\\u0430\\u0442\\u043e\\u0440\\u044b | \\u0410\\u043a\\u043a\\u0443\\u043c\\u0443\\u043b\\u044f\\u0442\\u043e\\u0440\\u044b\"\n        ],\n        \"semantic_type\": \"\",\n        \"description\": \"\"\n      }\n    },\n    {\n      \"column\": \"category\",\n      \"properties\": {\n        \"dtype\": \"category\",\n        \"num_unique_values\": 1,\n        \"samples\": [\n          \"\\u0411\\u044b\\u0442\\u043e\\u0432\\u0430\\u044f \\u0442\\u0435\\u0445\\u043d\\u0438\\u043a\\u0430\"\n        ],\n        \"semantic_type\": \"\",\n        \"description\": \"\"\n      }\n    },\n    {\n      \"column\": \"pred\",\n      \"properties\": {\n        \"dtype\": \"string\",\n        \"num_unique_values\": 3,\n        \"samples\": [\n          \"\\u0423\\u0441\\u043b\\u0443\\u0433\\u0438 \\u0432 \\u0441\\u0438\\u0441\\u0442\\u0435\\u043c\\u0435 \\u043e\\u0431\\u0440\\u0430\\u0437\\u043e\\u0432\\u0430\\u043d\\u0438\\u044f \\u0438 \\u0442\\u0440\\u0443\\u0434\\u043e\\u0443\\u0441\\u0442\\u0440\\u043e\\u0439\\u0441\\u0442\\u0432\\u043e\"\n        ],\n        \"semantic_type\": \"\",\n        \"description\": \"\"\n      }\n    }\n  ]\n}"
            }
          },
          "metadata": {},
          "execution_count": 80
        }
      ]
    },
    {
      "cell_type": "markdown",
      "source": [
        "Ещ один пример перекликающихся категорий: Бытовая техника и Промышленное оборудование. Наверняка в текстах часто можно встретить такие слова как: \"машина\", \"запчасть\", \"установка\". Однако, модельне назвала соседнюю категорию в подавляющем большинстве. Так что в данном случае это скорее совпадение, чем правило."
      ],
      "metadata": {
        "id": "7sIONwemmGCA"
      }
    },
    {
      "cell_type": "markdown",
      "source": [
        "### Сравнение с BERT"
      ],
      "metadata": {
        "id": "wFArzjv98Lph"
      }
    },
    {
      "cell_type": "code",
      "source": [
        "from datasets import Dataset"
      ],
      "metadata": {
        "id": "ODuh_hVP_GQi"
      },
      "execution_count": null,
      "outputs": []
    },
    {
      "cell_type": "code",
      "source": [
        "from evaluate import load\n",
        "import numpy as np\n",
        "\n",
        "def compute_metrics(eval_pred):\n",
        "    metric_acc = load(\"accuracy\")\n",
        "    metric_precision = load(\"precision\")\n",
        "    metric_recall = load(\"recall\")\n",
        "\n",
        "    logits, labels = eval_pred\n",
        "    predictions = np.argmax(logits, axis=-1)\n",
        "    if labels.ndim == 2:  # one-hot case\n",
        "        labels = np.argmax(labels, axis=1)\n",
        "\n",
        "    results = {}\n",
        "    results.update(metric_acc.compute(predictions=predictions, references=labels))\n",
        "    results.update(metric_precision.compute(\n",
        "        predictions=predictions, references=labels, average=\"macro\"\n",
        "    ))\n",
        "    results.update(metric_recall.compute(\n",
        "        predictions=predictions, references=labels, average=\"macro\"\n",
        "    ))\n",
        "    return results"
      ],
      "metadata": {
        "id": "ljhfRLoIGDS8"
      },
      "execution_count": null,
      "outputs": []
    },
    {
      "cell_type": "code",
      "source": [
        "def preprocess(example):\n",
        "    return tokenizer(example[\"text\"], truncation=True, padding=\"max_length\", max_length=128)\n",
        "\n",
        "tokenizer = AutoTokenizer.from_pretrained(\"bert-base-uncased\")"
      ],
      "metadata": {
        "id": "iTWea1Oc9SEC"
      },
      "execution_count": null,
      "outputs": []
    },
    {
      "cell_type": "code",
      "source": [
        "tokenized_train = Dataset.from_pandas(df_train[['tokens', 'category_encoded']].rename(columns={'tokens':'text', 'category_encoded':'labels'})).map(preprocess)\n",
        "tokenized_test = Dataset.from_pandas(df_val[['tokens', 'category_encoded']].rename(columns={'tokens':'text', 'category_encoded':'labels'})).map(preprocess)"
      ],
      "metadata": {
        "colab": {
          "base_uri": "https://localhost:8080/",
          "height": 81,
          "referenced_widgets": [
            "3b513d11a0a64234857b510a961b558a",
            "4f237be9ab5f401892e130bc1ceefb30",
            "7342a5d6771b47779db313acaba515ab",
            "c29d6d6dca7d45a0aa9cf9a0aa1dfc4e",
            "487d9ce6adf748ceae7c9f280c741206",
            "99b97e4e0a31442ab24ac9b4c79e31a2",
            "ad0002f7a1074041b423e730823a8bd5",
            "e56349a2d1d548d5bc247f36823710d3",
            "48577f33722445b2a6f2ae8ef7363394",
            "a83280908d634759b4bd3aea21269294",
            "1f530323ec074c3385ebde5b35b1d676",
            "504df71303c7460b86983fc8ca0f6ece",
            "4260a5fe1ff948c3a649f07edb2b477b",
            "1e9ba679085c457995db7a8e772f9c75",
            "70cef970ccc74beea589992c27ba4dc7",
            "6666a06855684af89257653c6733d48d",
            "480f7d5b30a948e8a23caa4bbdf42cef",
            "c5e8348d9871404e90d5e9fc8487a3be",
            "35395295e5da48e194ae5dbfce713ea4",
            "9466d3068c1e43a79963cf237a7d7b7c",
            "df0b0eba1cb54addb6a29a0793fe32e2",
            "53e81f7efdc047489c02ed634dd863b6"
          ]
        },
        "id": "AmPgDnBP8Oyl",
        "outputId": "fb9c826c-6718-4019-9ea6-ad722fa5334f"
      },
      "execution_count": null,
      "outputs": [
        {
          "output_type": "display_data",
          "data": {
            "text/plain": [
              "Map:   0%|          | 0/2376 [00:00<?, ? examples/s]"
            ],
            "application/vnd.jupyter.widget-view+json": {
              "version_major": 2,
              "version_minor": 0,
              "model_id": "3b513d11a0a64234857b510a961b558a"
            }
          },
          "metadata": {}
        },
        {
          "output_type": "display_data",
          "data": {
            "text/plain": [
              "Map:   0%|          | 0/297 [00:00<?, ? examples/s]"
            ],
            "application/vnd.jupyter.widget-view+json": {
              "version_major": 2,
              "version_minor": 0,
              "model_id": "504df71303c7460b86983fc8ca0f6ece"
            }
          },
          "metadata": {}
        }
      ]
    },
    {
      "cell_type": "code",
      "source": [
        "model = AutoModelForSequenceClassification.from_pretrained(\"bert-base-uncased\", num_labels=len(categories))\n",
        "args = TrainingArguments(\"output\", num_train_epochs=3, report_to=\"none\")\n",
        "trainer = Trainer(model, args, train_dataset=tokenized_train, eval_dataset=tokenized_test, compute_metrics=compute_metrics)\n",
        "trainer.train()"
      ],
      "metadata": {
        "colab": {
          "base_uri": "https://localhost:8080/",
          "height": 159
        },
        "id": "Krd3ci668uAk",
        "outputId": "7c1cb57b-f109-4ed5-89df-f4204eddc74b"
      },
      "execution_count": null,
      "outputs": [
        {
          "output_type": "stream",
          "name": "stderr",
          "text": [
            "Some weights of BertForSequenceClassification were not initialized from the model checkpoint at bert-base-uncased and are newly initialized: ['classifier.bias', 'classifier.weight']\n",
            "You should probably TRAIN this model on a down-stream task to be able to use it for predictions and inference.\n"
          ]
        },
        {
          "output_type": "display_data",
          "data": {
            "text/plain": [
              "<IPython.core.display.HTML object>"
            ],
            "text/html": [
              "\n",
              "    <div>\n",
              "      \n",
              "      <progress value='891' max='891' style='width:300px; height:20px; vertical-align: middle;'></progress>\n",
              "      [891/891 03:49, Epoch 3/3]\n",
              "    </div>\n",
              "    <table border=\"1\" class=\"dataframe\">\n",
              "  <thead>\n",
              " <tr style=\"text-align: left;\">\n",
              "      <th>Step</th>\n",
              "      <th>Training Loss</th>\n",
              "    </tr>\n",
              "  </thead>\n",
              "  <tbody>\n",
              "    <tr>\n",
              "      <td>500</td>\n",
              "      <td>0.107700</td>\n",
              "    </tr>\n",
              "  </tbody>\n",
              "</table><p>"
            ]
          },
          "metadata": {}
        },
        {
          "output_type": "execute_result",
          "data": {
            "text/plain": [
              "TrainOutput(global_step=891, training_loss=0.09026675111918336, metrics={'train_runtime': 229.8965, 'train_samples_per_second': 31.005, 'train_steps_per_second': 3.876, 'total_flos': 469150162956288.0, 'train_loss': 0.09026675111918336, 'epoch': 3.0})"
            ]
          },
          "metadata": {},
          "execution_count": 80
        }
      ]
    },
    {
      "cell_type": "code",
      "source": [
        "trainer.evaluate()"
      ],
      "metadata": {
        "colab": {
          "base_uri": "https://localhost:8080/"
        },
        "id": "nJ0ocqcJTM0k",
        "outputId": "52ac2c46-3f5d-419c-8bdf-71210f54fb77"
      },
      "execution_count": null,
      "outputs": [
        {
          "output_type": "stream",
          "name": "stdout",
          "text": [
            "{'eval_loss': 0.06667758524417877, 'eval_accuracy': 0.2978117996959389, 'eval_precision': 0.14468329683699074, 'eval_recall': 0.24026432813392323, 'eval_runtime': 4.0345, 'eval_samples_per_second': 73.614, 'eval_steps_per_second': 9.419, 'epoch': 3.0}\n"
          ]
        }
      ]
    },
    {
      "cell_type": "markdown",
      "source": [
        "|           | bert-base-uncased | count_vectorizer (Tanh) |\n",
        "|-----------|-------------------|-------------------------|\n",
        "| Precision | 0.144             | 0.53                    |\n",
        "| Recall    | 0.24              | 0.55                    |"
      ],
      "metadata": {
        "id": "TrbMRvZfZc-5"
      }
    }
  ]
}